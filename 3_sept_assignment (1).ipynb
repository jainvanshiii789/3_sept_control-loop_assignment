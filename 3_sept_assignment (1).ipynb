{
 "cells": [
  {
   "cell_type": "markdown",
   "id": "7ee073bc-1183-45c7-ab01-66060f79e358",
   "metadata": {},
   "source": [
    "# 3_sept_assignment(control loop)"
   ]
  },
  {
   "cell_type": "markdown",
   "id": "c8f4cbf6-7435-4e0a-bd94-d1bd2cb3c4ba",
   "metadata": {},
   "source": [
    "## Basic level questions:"
   ]
  },
  {
   "cell_type": "markdown",
   "id": "dd75d045-2cec-4061-94e7-a3cf1287451a",
   "metadata": {},
   "source": [
    "1. Write a Python program to check if a given number is positive or negative."
   ]
  },
  {
   "cell_type": "code",
   "execution_count": 1,
   "id": "6b5fbcd4-2723-4005-bd82-d9520b1db019",
   "metadata": {},
   "outputs": [
    {
     "name": "stdout",
     "output_type": "stream",
     "text": [
      "7 is positive\n"
     ]
    }
   ],
   "source": [
    "# take a number:\n",
    "num = 7\n",
    "# use if-else condition to find positive or negative:\n",
    "if num<0:\n",
    "    print(num,\"is negative\")\n",
    "else:\n",
    "    print(num,\"is positive\")"
   ]
  },
  {
   "cell_type": "markdown",
   "id": "04fc4b86-73d3-4fc3-a6d5-0639b467303a",
   "metadata": {},
   "source": [
    "2. Create a program that determines if a person is eligible to vote based on their age."
   ]
  },
  {
   "cell_type": "code",
   "execution_count": 2,
   "id": "b0e4ec5f-ee87-46a1-8955-a4d23521e957",
   "metadata": {},
   "outputs": [
    {
     "name": "stdout",
     "output_type": "stream",
     "text": [
      "You are eligible to vote .\n"
     ]
    }
   ],
   "source": [
    "# take age:\n",
    "age = 20\n",
    "\n",
    "# use if-else to determine the eligibility:\n",
    "if age >= 18:\n",
    "    print(\"You are eligible to vote .\")\n",
    "else:\n",
    "    print(\"sorry,you are not eligible .\")"
   ]
  },
  {
   "cell_type": "markdown",
   "id": "8b0ed621-6fce-4d31-a757-6acb2d73d28b",
   "metadata": {},
   "source": [
    "3. Develop a program to find the maximum of two numbers using if-else statements."
   ]
  },
  {
   "cell_type": "code",
   "execution_count": 1,
   "id": "d5193712-4017-4c23-867d-468c005ff8aa",
   "metadata": {},
   "outputs": [
    {
     "name": "stdout",
     "output_type": "stream",
     "text": [
      "b =  30 is greater\n"
     ]
    }
   ],
   "source": [
    "# inputs:\n",
    "a = 20\n",
    "b = 30\n",
    "# find the maximum number using if-else condition:\n",
    "if a >b:\n",
    "    print(\"a =\",a,\"is greater\")\n",
    "else:\n",
    "    print(\"b = \",b,\"is greater\")"
   ]
  },
  {
   "cell_type": "markdown",
   "id": "8000adc4-6acb-4836-ac4e-80f0eff9832e",
   "metadata": {},
   "source": [
    "4. Write a Python script to classify a given year as a leap year or not."
   ]
  },
  {
   "cell_type": "code",
   "execution_count": 5,
   "id": "f6332046-e420-49d8-b31a-e2583367589d",
   "metadata": {},
   "outputs": [
    {
     "name": "stdout",
     "output_type": "stream",
     "text": [
      "2000  is leap year\n"
     ]
    }
   ],
   "source": [
    "# take a year:\n",
    "year = 2000\n",
    "\n",
    "# use if-elif-else to check if the year is leap year or not:\n",
    "\n",
    "if (year%400==0) and (year%100==0) or (year % 4==0) and (year % 100!=0):\n",
    "    print(year,\" is leap year\")\n",
    "else:\n",
    "    print(\"it is not a leap year\")"
   ]
  },
  {
   "cell_type": "markdown",
   "id": "6a99f564-8d80-421b-a9a6-466837b7bd42",
   "metadata": {},
   "source": [
    "5. Create a program that checks whether a character is a vowel or a consonant."
   ]
  },
  {
   "cell_type": "code",
   "execution_count": 29,
   "id": "2a6038ee-f12e-4950-a6b5-f7f27487c852",
   "metadata": {},
   "outputs": [
    {
     "name": "stdout",
     "output_type": "stream",
     "text": [
      "y  is consonant\n"
     ]
    }
   ],
   "source": [
    "# Take a character:\n",
    "char = 'Y'\n",
    "\n",
    "# use casefold to lower case the character:\n",
    "char = char.casefold()\n",
    "\n",
    "# use if-else to check whether it is a vowel or consonant:\n",
    "if char in 'aeiou':\n",
    "    print(char,\" is vowel\")\n",
    "else:\n",
    "    print(char,\" is consonant\")"
   ]
  },
  {
   "cell_type": "markdown",
   "id": "4a9e1b02-9b31-420f-86ec-f69e771446b2",
   "metadata": {},
   "source": [
    "6. Implement a program to determine whether a given number is even or odd."
   ]
  },
  {
   "cell_type": "code",
   "execution_count": 30,
   "id": "3953d472-3a2f-4d95-9ea6-4fb176cdb060",
   "metadata": {},
   "outputs": [
    {
     "name": "stdout",
     "output_type": "stream",
     "text": [
      "63  is odd\n"
     ]
    }
   ],
   "source": [
    "# Take a number:\n",
    "num = 63\n",
    "# Use if-else condition to find if the num is even or odd:\n",
    "if num%2 == 0:\n",
    "    print(num,\" is even\")\n",
    "else:\n",
    "    print(num,\" is odd\")"
   ]
  },
  {
   "cell_type": "markdown",
   "id": "c8ab042b-68ea-42a8-8371-99756748c1f6",
   "metadata": {},
   "source": [
    "7. Write a Python function to calculate the absolute value of a number without using the `abs()` function."
   ]
  },
  {
   "cell_type": "code",
   "execution_count": 32,
   "id": "5416e3fd-2e15-48c2-bf88-d952a45c9738",
   "metadata": {},
   "outputs": [
    {
     "name": "stdout",
     "output_type": "stream",
     "text": [
      "absolute value of -12 is 12\n"
     ]
    }
   ],
   "source": [
    "# Initialize a variabke:\n",
    "a = -12\n",
    "# use if-else to find the abs value:\n",
    "if a >= 0:\n",
    "    print(f\"absolute value of {a} is {a}\")\n",
    "else:\n",
    "    print(f\"absolute value of {a} is\",-a)"
   ]
  },
  {
   "cell_type": "markdown",
   "id": "912dd74b-22ec-46e8-bed2-7ad95e18207a",
   "metadata": {},
   "source": [
    "8. Develop a program that determines the largest of three given numbers using if-else statements."
   ]
  },
  {
   "cell_type": "code",
   "execution_count": 34,
   "id": "2f3f72d2-677c-48f9-a330-6a11dfad5a8a",
   "metadata": {},
   "outputs": [
    {
     "name": "stdout",
     "output_type": "stream",
     "text": [
      "b is largest\n"
     ]
    }
   ],
   "source": [
    "# take three numbers:\n",
    "a = 20\n",
    "b = 70\n",
    "c = 60\n",
    "\n",
    "# use if else condition to find the largest number:\n",
    "if a>b:\n",
    "    if a>c:\n",
    "        print(\"a is largest\")\n",
    "    else:\n",
    "        print(\"c is largest\")\n",
    "else:\n",
    "    print(\"b is largest\")"
   ]
  },
  {
   "cell_type": "markdown",
   "id": "248dff43-bb15-439f-871c-603fc79a6aa5",
   "metadata": {},
   "source": [
    "9. Create a program that checks if a given string is a palindrome."
   ]
  },
  {
   "cell_type": "code",
   "execution_count": 36,
   "id": "6379f63c-5169-451f-a397-5054ff15d886",
   "metadata": {},
   "outputs": [
    {
     "name": "stdout",
     "output_type": "stream",
     "text": [
      "it is palindrome.\n"
     ]
    }
   ],
   "source": [
    "# input a string:\n",
    "string = \"naman\"\n",
    "# use if-else to check if the given string is palindrome or not:\n",
    "if string == string[::-1]:\n",
    "    print(\"it is palindrome.\")\n",
    "else:\n",
    "    print(\"it is not a palindrome\")"
   ]
  },
  {
   "cell_type": "markdown",
   "id": "bf658a97-7e74-4fbd-ab49-582f89b86852",
   "metadata": {},
   "source": [
    "10. Write a Python program to calculate the grade based on a student's score."
   ]
  },
  {
   "cell_type": "code",
   "execution_count": 38,
   "id": "f2ffe998-db39-4687-8bc6-8fa513f17f59",
   "metadata": {},
   "outputs": [
    {
     "name": "stdout",
     "output_type": "stream",
     "text": [
      "Your grade is A\n"
     ]
    }
   ],
   "source": [
    "# given score:\n",
    "score = 90\n",
    "# use if-else to calculate grades:\n",
    "if score>=70:\n",
    "    if score>=90:\n",
    "        print(\"Your grade is A\")\n",
    "    else:\n",
    "        print(\"Your grade is C\")\n",
    "else:\n",
    "    print(\"You got C grade\")"
   ]
  },
  {
   "cell_type": "markdown",
   "id": "399a8437-80ae-4b9c-a994-b2e9e079cb67",
   "metadata": {},
   "source": [
    "## Nested if-else statements:"
   ]
  },
  {
   "cell_type": "markdown",
   "id": "03554c02-daf8-400c-a549-81a155104cd1",
   "metadata": {},
   "source": [
    "11. Write a program to find the largest among three numbers using nested if-else statements."
   ]
  },
  {
   "cell_type": "code",
   "execution_count": 47,
   "id": "0f768c9b-6645-4f79-82cf-2a5670a0cc81",
   "metadata": {},
   "outputs": [
    {
     "name": "stdout",
     "output_type": "stream",
     "text": [
      "b is the largest number\n"
     ]
    }
   ],
   "source": [
    "# Take three numbers:\n",
    "a = 120\n",
    "b= 601\n",
    "c = 130\n",
    "# use nested if-else to find the largest one:\n",
    "if a>b:\n",
    "    if a>c:\n",
    "        print(\"a is the largest number\")\n",
    "    else:\n",
    "        print(\"c is the largest number\")\n",
    "else:\n",
    "    print(\"b is the largest number\")\n"
   ]
  },
  {
   "cell_type": "markdown",
   "id": "0d179931-067c-48b7-88f1-522cfefe00fb",
   "metadata": {},
   "source": [
    "12. Implement a program to determine if a triangle is equilateral, isosceles, or scalene."
   ]
  },
  {
   "cell_type": "code",
   "execution_count": 56,
   "id": "c0a2b9f9-95ec-4f0f-a311-431daae8ef32",
   "metadata": {},
   "outputs": [
    {
     "name": "stdout",
     "output_type": "stream",
     "text": [
      "isosceles\n"
     ]
    }
   ],
   "source": [
    "# take the sides of the triangle:\n",
    "a = 25\n",
    "b = 15\n",
    "c =25\n",
    "# use nested if else to check if the triangle is equilateral,isosceles or scalene:\n",
    "if a==b or b==c or a==c :\n",
    "    if a==b==c:\n",
    "        print(\"it is equilateral\")\n",
    "    else:\n",
    "        print(\"isosceles\")\n",
    "else:\n",
    "    print(\"scalene\")"
   ]
  },
  {
   "cell_type": "markdown",
   "id": "37f48810-47d4-46bb-b492-b903032f1d9f",
   "metadata": {},
   "source": [
    "13. Develop a program that checks if a year is a leap year and also if it is a century year."
   ]
  },
  {
   "cell_type": "code",
   "execution_count": 19,
   "id": "afe7a8f5-9d6e-4685-8597-50d0645b2ce2",
   "metadata": {},
   "outputs": [
    {
     "name": "stdout",
     "output_type": "stream",
     "text": [
      "The year is leap year and also a century year.\n"
     ]
    }
   ],
   "source": [
    "# take a year as input:\n",
    "year = 2000\n",
    "\n",
    "# use nested if to check if the year is a leap year and also a century year:\n",
    "if year%400 == 0 and year%100 == 0:\n",
    "    print(\"The year is leap year and also a century year.\")\n",
    "else:\n",
    "    if year%4 == 0 and year%100 != 0:\n",
    "        print(\"The year is a leap year but not a century.\")\n",
    "    else:\n",
    "        print(\"Both the conditions are not true.\")\n",
    "        "
   ]
  },
  {
   "cell_type": "markdown",
   "id": "235321af-7c29-4ab0-b3b4-2e1bd74ed711",
   "metadata": {},
   "source": [
    "14. Write a Python script to determine if a number is positive, negative, or zero."
   ]
  },
  {
   "cell_type": "code",
   "execution_count": 61,
   "id": "86630fb8-ddcd-46a3-9b14-ac4a6367e417",
   "metadata": {},
   "outputs": [
    {
     "name": "stdout",
     "output_type": "stream",
     "text": [
      "number is positive.\n"
     ]
    }
   ],
   "source": [
    "# input a number:\n",
    "num = 10\n",
    "# use nested if-else to determine if number is positive ,negative or zero:\n",
    "if num>= 0:\n",
    "    if num == 0:\n",
    "        print(\"number is zero.\")\n",
    "    else:\n",
    "        print(\"number is positive.\")\n",
    "else:\n",
    "    print(\"number is negative\")\n",
    "        "
   ]
  },
  {
   "cell_type": "markdown",
   "id": "5a4a9535-53d6-4ddf-a099-5425fd244113",
   "metadata": {},
   "source": [
    "15. Create a program to check if a person is a teenager (between 13 and 19 years old)."
   ]
  },
  {
   "cell_type": "code",
   "execution_count": 12,
   "id": "f12a0514-b454-4943-8d4f-1d48d7522f72",
   "metadata": {},
   "outputs": [
    {
     "name": "stdout",
     "output_type": "stream",
     "text": [
      "enjoy your teenage\n"
     ]
    }
   ],
   "source": [
    "# take the age of the user:\n",
    "age = 17\n",
    "\n",
    "# use nested if to find if he or she is teenage or not:\n",
    "if age >= 13:\n",
    "    if 13<=age<=19:\n",
    "        print(\"enjoy your teenage\")\n",
    "    else:\n",
    "        print(\"you are an adult\")\n",
    "else:\n",
    "    print(\"you are a kid\")"
   ]
  },
  {
   "cell_type": "markdown",
   "id": "5ada3078-a488-4ce1-8953-c918573243ca",
   "metadata": {},
   "source": [
    "16. Develop a program that determines the type of angle based on its measure (acute, obtuse, or right)."
   ]
  },
  {
   "cell_type": "code",
   "execution_count": 62,
   "id": "e88221c5-d8b2-4a56-9d66-b09c4ab9d2e5",
   "metadata": {},
   "outputs": [
    {
     "name": "stdout",
     "output_type": "stream",
     "text": [
      "It is acute angle\n"
     ]
    }
   ],
   "source": [
    "# Input angle:\n",
    "angle = 60\n",
    "# use nested if-else to check if it is acute ,obtuse or right:\n",
    "if angle>=90:\n",
    "    if angle == 90:\n",
    "        print(\"It is right angle\")\n",
    "    else:\n",
    "        print(\"It is obtuse angle\")\n",
    "else:\n",
    "    print(\"It is acute angle\")"
   ]
  },
  {
   "cell_type": "markdown",
   "id": "2a27a48c-314d-4511-9d0e-440c550aec47",
   "metadata": {},
   "source": [
    "17. Write a Python program to calculate the roots of a quadratic equation."
   ]
  },
  {
   "cell_type": "code",
   "execution_count": 2,
   "id": "06fad9ed-7776-44c8-a49a-99f16bbf4d03",
   "metadata": {},
   "outputs": [
    {
     "name": "stdin",
     "output_type": "stream",
     "text": [
      "Enter the value of a here : 5\n",
      "Enter the value of b here : 6\n",
      "Enter the value of c here : 2\n"
     ]
    },
    {
     "name": "stdout",
     "output_type": "stream",
     "text": [
      "discriminant =  -4\n",
      "The roots are complex:\n",
      "root1 =  (-15+5j) root2 = (-15-5j)\n"
     ]
    }
   ],
   "source": [
    "## first we take the values of a,b and c from the user to satisfy the quadratic equation which is (ax**2 + bx + c):\n",
    "a = int(input(\"Enter the value of a here :\"))\n",
    "b = int(input(\"Enter the value of b here :\"))\n",
    "c = int(input(\"Enter the value of c here :\"))\n",
    "\n",
    "# Find the discriminant:\n",
    "d = b**2 - 4*a*c\n",
    "print(\"discriminant = \",d)\n",
    "# use nested if to find the roots of the equation:\n",
    "if d>=0:\n",
    "    if d == 0:\n",
    "        print(\"The roots are real and same :\")\n",
    "        print((-b)/2*a)\n",
    "    else:\n",
    "        print(\"The roots are real and different.\")\n",
    "        print(\"root1 = \",(-b+(d)**0.5)/2*a, \"root2 =\",(-b - (d)**0.5)/2*a)\n",
    "else:\n",
    "    print(\"The roots are complex:\")\n",
    "    print(\"root1 = \",(-b+(-1*-d)**0.5)/2*a, \"root2 =\",(-b - (-1*-d)**0.5)/2*a)\n"
   ]
  },
  {
   "cell_type": "markdown",
   "id": "d8501543-682a-4fba-8b07-f986ad1c96ee",
   "metadata": {},
   "source": [
    "18. Implement a program to determine the day of the week based on a user-provided number (1 for Monday, 2\n",
    "for Tuesday, etc.)."
   ]
  },
  {
   "cell_type": "code",
   "execution_count": 14,
   "id": "c9e51c8a-87c5-4653-af56-b400212f8a98",
   "metadata": {},
   "outputs": [
    {
     "name": "stdin",
     "output_type": "stream",
     "text": [
      "Enter your number here : 7\n"
     ]
    },
    {
     "name": "stdout",
     "output_type": "stream",
     "text": [
      "Sunday\n"
     ]
    }
   ],
   "source": [
    "# take a number from user:\n",
    "user_input = int(input(\"Enter your number here :\"))\n",
    "# use nested if to determine the day of the wee:\n",
    "if user_input == 1:\n",
    "    print(\"Monday\")\n",
    "if user_input == 2:\n",
    "    print(\"Tuesday\")\n",
    "if user_input == 3:\n",
    "    print(\"Wednesday\")\n",
    "if user_input == 4:\n",
    "    print(\"Thursday\")\n",
    "if user_input == 5:\n",
    "    print(\"Friday\")\n",
    "if user_input == 6:\n",
    "    print(\"Saturday\")\n",
    "if user_input == 7:\n",
    "    print(\"Sunday\")\n",
    "    \n",
    "else:\n",
    "    if user_input > 7:\n",
    "        print(\"invalid number\")\n"
   ]
  },
  {
   "cell_type": "markdown",
   "id": "881c3558-786c-482e-a267-eb487559edb0",
   "metadata": {},
   "source": [
    "19. Create a program that determines if a year is a leap year and also if it is evenly divisible by 400."
   ]
  },
  {
   "cell_type": "code",
   "execution_count": 43,
   "id": "fb546280-cc76-4a0b-a655-535a2fa7f9a0",
   "metadata": {},
   "outputs": [
    {
     "name": "stdout",
     "output_type": "stream",
     "text": [
      "it is divisible by 400 and is a leap year.\n"
     ]
    }
   ],
   "source": [
    "# input a year to check if it is a leap year or not:\n",
    "year = 2000\n",
    "if year%400 == 0 and year%100 == 0:\n",
    "    print(\"it is divisible by 400 and is a leap year.\")\n",
    "else:\n",
    "    if year%4==0 and year%100 != 0:\n",
    "        print(\"it is a leap year ,but not divisible by 400\")\n",
    "    else:\n",
    "        print('it is not following both the conditions.')"
   ]
  },
  {
   "cell_type": "markdown",
   "id": "03f90a0b-8cfe-4f29-96ba-19e44fc72228",
   "metadata": {},
   "source": [
    "20. Develop a program that checks if a given number is prime or not using nested if-else statements."
   ]
  },
  {
   "cell_type": "code",
   "execution_count": 35,
   "id": "77a3a243-f76a-4443-bc6b-74c99e4f0cf3",
   "metadata": {},
   "outputs": [
    {
     "name": "stdin",
     "output_type": "stream",
     "text": [
      "Enter your number here : 25\n"
     ]
    },
    {
     "name": "stdout",
     "output_type": "stream",
     "text": [
      "not prime.\n"
     ]
    }
   ],
   "source": [
    "# initialize a number as input:\n",
    "num = int(input(\"Enter your number here :\"))\n",
    "\n",
    "# use nested if to check whether a number is prime or not:\n",
    "if num >1:\n",
    "    if num == 2:\n",
    "        print(\"prime\")\n",
    "    else:\n",
    "        for i in range(2,num):\n",
    "            if num%i == 0:\n",
    "                print(\"not prime.\")\n",
    "                break\n",
    "        else:\n",
    "            print(\"prime\")\n",
    "else:\n",
    "    print(\"not prime\")"
   ]
  },
  {
   "cell_type": "markdown",
   "id": "35540d79-3050-4bcf-ba42-ddd1ccb29497",
   "metadata": {},
   "source": [
    "## Elif statements:"
   ]
  },
  {
   "cell_type": "markdown",
   "id": "ec4bba76-8aca-4a97-a344-7092cb4c8ddc",
   "metadata": {},
   "source": [
    "21. Write a Python program to assign grades based on different ranges of scores using elif statements."
   ]
  },
  {
   "cell_type": "code",
   "execution_count": 1,
   "id": "622511f9-b482-4602-a745-fcd4b96ba566",
   "metadata": {},
   "outputs": [
    {
     "name": "stdin",
     "output_type": "stream",
     "text": [
      "Enter your score here: 55\n"
     ]
    },
    {
     "name": "stdout",
     "output_type": "stream",
     "text": [
      "you got D grade.\n"
     ]
    }
   ],
   "source": [
    "# input the score of a student:\n",
    "score = int(input(\"Enter your score here:\"))\n",
    "\n",
    "# Assign grades to the student using elif statements:\n",
    "if score>= 95:\n",
    "    print(\"you got A+ grade\")\n",
    "elif score>=85:\n",
    "    print(\"you got A grade.\")\n",
    "elif score>=75:\n",
    "    print(\"you got B grade.\")\n",
    "elif score>= 60:\n",
    "    print(\"you got C grade.\")\n",
    "elif score>=45:\n",
    "    print(\"you got D grade.\")\n",
    "elif score>=33:\n",
    "    print(\"you got E grade.\")\n",
    "else:\n",
    "    print(\"Sorry,try another year.\")\n",
    "        "
   ]
  },
  {
   "cell_type": "markdown",
   "id": "1a22ddef-c8b3-4e32-9a03-b2f1be2cd0cf",
   "metadata": {},
   "source": [
    "22. Implement a program to determine the type of a triangle based on its angles."
   ]
  },
  {
   "cell_type": "code",
   "execution_count": 40,
   "id": "ed3ccbac-b134-4c23-b587-193d24854d99",
   "metadata": {},
   "outputs": [
    {
     "name": "stdin",
     "output_type": "stream",
     "text": [
      "Enter first angle : 50\n",
      "Enter second angle :  80\n",
      "Enter third angle : 50\n"
     ]
    },
    {
     "name": "stdout",
     "output_type": "stream",
     "text": [
      "The triangle is isoscelen.\n"
     ]
    }
   ],
   "source": [
    "# input the angles of triangle from the user:\n",
    "a = int(input(\"Enter first angle :\"))\n",
    "b = int(input(\"Enter second angle : \"))\n",
    "c = int(input(\"Enter third angle :\"))\n",
    "\n",
    "# using if elif to \n",
    "if a+b+c == 180:\n",
    "    if a==b==c:\n",
    "        print(\"This is equilateral triangle.\")\n",
    "    elif (a==b and a!=c) or (b==c and b!=a) or (c==a and c!=b):\n",
    "        print(\"The triangle is isoscelen.\")\n",
    "    else:\n",
    "        print(\"The triangle is scalene.\")\n",
    "else:\n",
    "    print(\"the given angles can not form a triangle.\")"
   ]
  },
  {
   "cell_type": "markdown",
   "id": "2fd0615e-d84c-4aa5-90bd-97b372fad474",
   "metadata": {},
   "source": [
    "23. Develop a program to categorize a given person's BMI into underweight, normal, overweight, or obese using\n",
    "elif statements."
   ]
  },
  {
   "cell_type": "code",
   "execution_count": 4,
   "id": "3e3388d7-4f53-4f7e-bf95-b6162fec40d4",
   "metadata": {},
   "outputs": [
    {
     "name": "stdin",
     "output_type": "stream",
     "text": [
      "Enter your body mass index here : 25\n"
     ]
    },
    {
     "name": "stdout",
     "output_type": "stream",
     "text": [
      "you are overweight,change your eating habits.\n"
     ]
    }
   ],
   "source": [
    "# Input the body mass index.\n",
    "BMI = float(input(\"Enter your body mass index here :\"))\n",
    "\n",
    "# Use elif condition to check if the person is underweight,normal,overweight or obese:\n",
    "if BMI< 18.5:\n",
    "    print(\"you are underweight,gain some weight.\")\n",
    "elif 18.5<=BMI<=24.9:\n",
    "    print(\"Congratulations,your weight is normal.\")\n",
    "elif 25<=BMI<=29.9:\n",
    "    print(\"you are overweight,change your eating habits.\")\n",
    "else:\n",
    "    print(\"you are obese,high risk of diseases.\")"
   ]
  },
  {
   "cell_type": "markdown",
   "id": "363b9f0b-b349-4d5e-82aa-54cf049a44b9",
   "metadata": {},
   "source": [
    "24. Create a program that determines whether a given number is positive, negative, or zero using elif\n",
    "statements."
   ]
  },
  {
   "cell_type": "code",
   "execution_count": 2,
   "id": "c3529748-6496-4b6c-8048-c3add52b492e",
   "metadata": {},
   "outputs": [
    {
     "name": "stdin",
     "output_type": "stream",
     "text": [
      "Enter a number here : -52\n"
     ]
    },
    {
     "name": "stdout",
     "output_type": "stream",
     "text": [
      "The given number is negative.\n"
     ]
    }
   ],
   "source": [
    "# Input a number:\n",
    "number = int(input(\"Enter a number here :\"))\n",
    "\n",
    "# use elif condition to check if the number is negative ,positive or zero:\n",
    "if number>0:\n",
    "    print(\"The given number is positive.\")\n",
    "elif number == 0:\n",
    "    print(\"The given number is Zero.\")\n",
    "else:\n",
    "    print(\"The given number is negative.\")"
   ]
  },
  {
   "cell_type": "markdown",
   "id": "61170149-4ed1-4976-a593-9747d55877a5",
   "metadata": {},
   "source": [
    "25. Write a Python script to determine the type of a character (uppercase, lowercase, or special) using elif\n",
    "statements."
   ]
  },
  {
   "cell_type": "code",
   "execution_count": 42,
   "id": "5892ed8b-c7af-4965-b3ec-5efbb046c3f8",
   "metadata": {},
   "outputs": [
    {
     "name": "stdin",
     "output_type": "stream",
     "text": [
      "Enter your character here : @\n"
     ]
    },
    {
     "name": "stdout",
     "output_type": "stream",
     "text": [
      "@ is special character.\n"
     ]
    }
   ],
   "source": [
    "# Input a character:\n",
    "char = input(\"Enter your character here :\")\n",
    "\n",
    "# use if else to find whether the character is uppercase ,lowercase or soecial:\n",
    "if char.isupper():\n",
    "    print(f\"{char} is uppercase.\")\n",
    "elif char.islower():\n",
    "    print(f\"{char} is lowercase.\")\n",
    "elif not char.isalnum():\n",
    "    print(f\"{char} is special character.\")\n",
    "else:\n",
    "    print(f\"{char} is neither uppercase nor lowecase.\")\n"
   ]
  },
  {
   "cell_type": "markdown",
   "id": "b9dcc239-aa45-44e0-acbb-55827de49eb8",
   "metadata": {},
   "source": [
    "26. Implement a program to calculate the discounted price based on different purchase amounts using elif\n",
    "statement"
   ]
  },
  {
   "cell_type": "code",
   "execution_count": 49,
   "id": "d0463dd3-6228-4164-bd0a-a2ea8d8ff46d",
   "metadata": {},
   "outputs": [
    {
     "name": "stdin",
     "output_type": "stream",
     "text": [
      "Enter your price of item : 2000\n"
     ]
    },
    {
     "name": "stdout",
     "output_type": "stream",
     "text": [
      "you got 20% dicount.\n",
      "The new price of the item is: 1600.0\n"
     ]
    }
   ],
   "source": [
    "# Input the price of item :\n",
    "price = float(input(\"Enter your price of item :\"))\n",
    "\n",
    "# initialize a variable for discount:\n",
    "dis = 0\n",
    "\n",
    "# use if else to check the discounted rates:\n",
    "if price>=2000:\n",
    "    dis = 0.2\n",
    "    print(\"you got 20% dicount.\")\n",
    "elif 1000<=price<2000:\n",
    "    dis = 0.1\n",
    "    print(\"you got 10% discount\")\n",
    "else:\n",
    "    print(\"There is no discount.\")\n",
    "# cacukate the dicounted price:\n",
    "new_price = price -(price*dis)\n",
    "\n",
    "# print the discounted price of the item.\n",
    "print(\"The new price of the item is:\", new_price)"
   ]
  },
  {
   "cell_type": "markdown",
   "id": "26db20bc-c286-4bbc-94a8-ad8094af2600",
   "metadata": {},
   "source": [
    "27. Develop a program to calculate the electricity bill based on different consumption slabs using elif\n",
    "statements."
   ]
  },
  {
   "cell_type": "code",
   "execution_count": 50,
   "id": "29f149f1-6fa6-45e4-955a-e39329ba6311",
   "metadata": {},
   "outputs": [
    {
     "name": "stdin",
     "output_type": "stream",
     "text": [
      "please enter the number of units you consumed in a month 125\n"
     ]
    },
    {
     "name": "stdout",
     "output_type": "stream",
     "text": [
      "\n",
      "Electicity bill=262.50\n"
     ]
    }
   ],
   "source": [
    "#program for calculating electricity bill in Python\n",
    "units=int(input(\"please enter the number of units you consumed in a month\"))\n",
    "if(units<=100):\n",
    "    payAmount=units*1.5\n",
    "    fixedcharge=25.00\n",
    "elif(units<=200):\n",
    "    payAmount=(100*1.5)+(units-100)*2.5\n",
    "    fixedcharge=50.00\n",
    "elif(units<=300):\n",
    "    payAmount=(100*1.5)+(200-100)*2.5+(units-200)*4\n",
    "    fixedcharge=75.00\n",
    "elif(units<=350):\n",
    "    payAmount=(100*1.5)+(200-100)*2.5+(300-200)*4+(units-300)*5\n",
    "    fixedcharge=100.00\n",
    "else:\n",
    "    payAmount=0\n",
    "    fixedcharge=1500.00\n",
    "Total=payAmount+fixedcharge;\n",
    "print(\"\\nElecticity bill=%.2f\" %Total)"
   ]
  },
  {
   "cell_type": "markdown",
   "id": "87756b63-69dc-43d7-aa1f-f5c58db15749",
   "metadata": {},
   "source": [
    "28. Create a program to determine the type of quadrilateral based on its angles and sides using elif\n",
    "statements."
   ]
  },
  {
   "cell_type": "code",
   "execution_count": 1,
   "id": "cf2de59a-c83d-4bbc-a226-0fcc05747b7e",
   "metadata": {},
   "outputs": [
    {
     "name": "stdin",
     "output_type": "stream",
     "text": [
      "Enter the angle1 in degree : 52\n",
      "Enter the angle2 in degree : 50\n",
      "Enter the angle3 in degree : 60\n",
      "Enter the angle4 in degree : 62\n",
      "Enter first side : 40\n",
      "Enter second side : 30\n",
      "Enter third side : 40\n",
      "Enter fourth side : 60\n"
     ]
    },
    {
     "name": "stdout",
     "output_type": "stream",
     "text": [
      "It is a general quadrilateral.\n"
     ]
    }
   ],
   "source": [
    "# Input the angles of the quadrilateral :\n",
    "a = float(input(\"Enter the angle1 in degree :\"))\n",
    "b = float(input(\"Enter the angle2 in degree :\"))\n",
    "c = float(input(\"Enter the angle3 in degree :\"))\n",
    "d = float(input(\"Enter the angle4 in degree :\"))\n",
    "\n",
    "# Input the sidesof the quadrilateral:\n",
    "s1 = float(input(\"Enter first side :\"))\n",
    "s2 = float(input(\"Enter second side :\"))\n",
    "s3 = float(input(\"Enter third side :\"))\n",
    "s4 = float(input(\"Enter fourth side :\"))\n",
    "\n",
    "# use if elif else to determine the type of the quadrilateral:\n",
    "if a==b==c==d==90:\n",
    "    if s1==s2==s3==s4:\n",
    "        print(\"It is a square.\")\n",
    "    else: \n",
    "        print(\"It is a rectangle.\")\n",
    "elif a==b==c==d:\n",
    "    print(\"It is a parallelogram.\")\n",
    "elif s1==s2==s3==s4:\n",
    "    print(\"It is a rhombus.\")\n",
    "    \n",
    "else:\n",
    "    print(\"It is a general quadrilateral.\")\n",
    "    \n"
   ]
  },
  {
   "cell_type": "markdown",
   "id": "6baff942-864f-4fa6-8878-e8a6d804dd91",
   "metadata": {},
   "source": [
    "29. Write a Python script to determine the season based on a user-provided month using elif statements"
   ]
  },
  {
   "cell_type": "code",
   "execution_count": 2,
   "id": "158b4368-bcf5-49d8-b542-c754eb1f48e6",
   "metadata": {},
   "outputs": [
    {
     "name": "stdin",
     "output_type": "stream",
     "text": [
      "Enter month (1-12): 6\n"
     ]
    },
    {
     "name": "stdout",
     "output_type": "stream",
     "text": [
      "season is summer.\n"
     ]
    }
   ],
   "source": [
    "month = int(input(\"Enter month (1-12):\"))\n",
    "\n",
    "# Use elif conditions to find the season in the particular month:\n",
    "if 3<=month<=5:\n",
    "    print(\"season is spring.\")\n",
    "elif 6<=month<=8:\n",
    "    print(\"season is summer.\")\n",
    "elif 9<=month<=11:\n",
    "    print(\"season is Auttumn.\")\n",
    "elif 12<=month<=2:\n",
    "    print(\"season is winter.\")\n",
    "else:\n",
    "    print(\"invalid number\")"
   ]
  },
  {
   "cell_type": "markdown",
   "id": "e8f655c2-fb84-4522-a19b-bcb855f47dfd",
   "metadata": {},
   "source": [
    "30. Implement a program to determine the type of a year (leap or common) and month (30 or 31 days) using\n",
    "elif statements."
   ]
  },
  {
   "cell_type": "code",
   "execution_count": 1,
   "id": "6b3065d6-9faf-46ce-b74e-9594b22f59f4",
   "metadata": {},
   "outputs": [
    {
     "name": "stdin",
     "output_type": "stream",
     "text": [
      "enter the year : 2000\n",
      "Enter a num from 1-12 : 5\n"
     ]
    },
    {
     "name": "stdout",
     "output_type": "stream",
     "text": [
      "The year 2000 is a leap year and month 5 has 31 days.\n"
     ]
    }
   ],
   "source": [
    "# take the year as input:\n",
    "year = int(input(\"enter the year :\"))\n",
    "\n",
    "# check the leap year condition:\n",
    "b = (year%4==0) and (year%100!=0) or (year%400==0)\n",
    "\n",
    "# NOw take month as input:\n",
    "month = int(input(\"Enter a num from 1-12 :\"))\n",
    "\n",
    "# Apply if elif else condition to check the given conditions:\n",
    "if month == 2:\n",
    "    if b:\n",
    "        days = 29\n",
    "    else:\n",
    "        days = 28\n",
    "elif month in [4,6,9,11]:\n",
    "    days = 30\n",
    "elif month in [1,3,5,7,8,10,12]:\n",
    "    days = 31\n",
    "else:\n",
    "    days = -1\n",
    "if days==-1:\n",
    "    print(\"Invalid\")\n",
    "else:\n",
    "    if b:\n",
    "        year_type = \"leap\"\n",
    "    else:\n",
    "        year_type = \"common\"\n",
    "        \n",
    "# print the satatement:\n",
    "print(f\"The year {year} is a {year_type} year and month {month} has {days} days.\")\n",
    "        \n",
    "\n"
   ]
  },
  {
   "cell_type": "markdown",
   "id": "1b9d291c-b9a1-4c4c-9e74-df33163bc930",
   "metadata": {},
   "source": [
    "## Basic level questions:"
   ]
  },
  {
   "cell_type": "markdown",
   "id": "f2867f4b-dadf-4ff5-aa27-aee8476f32ec",
   "metadata": {},
   "source": [
    "1. Write a Python program that checks if a given number is positive, negative, or zero."
   ]
  },
  {
   "cell_type": "code",
   "execution_count": 1,
   "id": "f7d44b4e-f496-48c5-9749-04b49d95910a",
   "metadata": {},
   "outputs": [
    {
     "name": "stdin",
     "output_type": "stream",
     "text": [
      "Enter a number here : 0\n"
     ]
    },
    {
     "name": "stdout",
     "output_type": "stream",
     "text": [
      "The given number is Zero.\n"
     ]
    }
   ],
   "source": [
    "# Input a number:\n",
    "number = int(input(\"Enter a number here :\"))\n",
    "\n",
    "# use elif condition to check if the number is negative ,positive or zero:\n",
    "if number>0:\n",
    "    print(\"The given number is positive.\")\n",
    "elif number == 0:\n",
    "    print(\"The given number is Zero.\")\n",
    "else:\n",
    "    print(\"The given number is negative.\")"
   ]
  },
  {
   "cell_type": "markdown",
   "id": "18737c78-ff67-4682-839f-8f17f66c3f27",
   "metadata": {},
   "source": [
    "2. Create a program to determine if a person is eligible to vote based on their age."
   ]
  },
  {
   "cell_type": "code",
   "execution_count": 3,
   "id": "d9856307-ded4-416b-bfd1-4344900be6e9",
   "metadata": {},
   "outputs": [
    {
     "name": "stdout",
     "output_type": "stream",
     "text": [
      "you are eligible to vote.\n"
     ]
    }
   ],
   "source": [
    "# Input the age:\n",
    "age = 18\n",
    "\n",
    "# use if else to determine if the person is eligible to vote or not:\n",
    "if age>=18:\n",
    "    print(\"you are eligible to vote.\")\n",
    "else:\n",
    "    print(\"you can not vote.\")"
   ]
  },
  {
   "cell_type": "markdown",
   "id": "46e368d5-a90f-4711-bb7a-8bdd142f1f8a",
   "metadata": {},
   "source": [
    "3. Write a program to find the maximum of two given numbers using conditional statements."
   ]
  },
  {
   "cell_type": "code",
   "execution_count": 5,
   "id": "270be875-8a25-4914-9574-00fede669eef",
   "metadata": {},
   "outputs": [
    {
     "name": "stdout",
     "output_type": "stream",
     "text": [
      "a = 5 is maxumum.\n"
     ]
    }
   ],
   "source": [
    "# Take two numbers:\n",
    "a = 5\n",
    "b = 2\n",
    "# use if else conditions to find the maximum number:\n",
    "if a>b:\n",
    "    print(f\"a = {a} is maxumum.\")\n",
    "else:\n",
    "    print(f\"b = {b} is maximum.\")"
   ]
  },
  {
   "cell_type": "markdown",
   "id": "3b635af5-36d0-4eec-a823-ce4ac4c661be",
   "metadata": {},
   "source": [
    "4. Develop a program that calculates the grade of a student based on their exam score."
   ]
  },
  {
   "cell_type": "code",
   "execution_count": 6,
   "id": "d712e76b-4bbb-4abd-8722-5485976f72cb",
   "metadata": {},
   "outputs": [
    {
     "name": "stdin",
     "output_type": "stream",
     "text": [
      "Enter your score here: 32\n"
     ]
    },
    {
     "name": "stdout",
     "output_type": "stream",
     "text": [
      "Sorry,try another year.\n"
     ]
    }
   ],
   "source": [
    "# input the score of a student:\n",
    "score = int(input(\"Enter your score here:\"))\n",
    "\n",
    "# Assign grades to the student using elif statements:\n",
    "if score>= 95:\n",
    "    print(\"you got A+ grade\")\n",
    "elif score>=85:\n",
    "    print(\"you got A grade.\")\n",
    "elif score>=75:\n",
    "    print(\"you got B grade.\")\n",
    "elif score>= 60:\n",
    "    print(\"you got C grade.\")\n",
    "elif score>=45:\n",
    "    print(\"you got D grade.\")\n",
    "elif score>=33:\n",
    "    print(\"you got E grade.\")\n",
    "else:\n",
    "    print(\"Sorry,try another year.\")\n",
    "        "
   ]
  },
  {
   "cell_type": "markdown",
   "id": "5cac3a49-cb49-4726-bdde-eefec0c1110b",
   "metadata": {},
   "source": [
    "5. Create a program that checks if a year is a leap year or not."
   ]
  },
  {
   "cell_type": "code",
   "execution_count": 8,
   "id": "d225332d-591e-48fb-a008-3862b3d59cff",
   "metadata": {},
   "outputs": [
    {
     "name": "stdout",
     "output_type": "stream",
     "text": [
      "it is not a leap year\n"
     ]
    }
   ],
   "source": [
    "# take a year:\n",
    "year = 2001\n",
    "# use if-elif-else to check if the year is leap year or not:\n",
    "if (year%400==0) and (year%100==0):\n",
    "    print(year,\" is leap year\")\n",
    "elif year % 4==0 and year % 100!=0:\n",
    "     print(year,\" is leap year\")\n",
    "else:\n",
    "    print(\"it is not a leap year\")"
   ]
  },
  {
   "cell_type": "markdown",
   "id": "b11eea48-28b8-482c-8e05-3cac83e69e82",
   "metadata": {},
   "source": [
    "6. Write a program to classify a triangle based on its sides' lengths."
   ]
  },
  {
   "cell_type": "code",
   "execution_count": 10,
   "id": "dc852e2e-e673-46a6-b7fb-aa6373d997be",
   "metadata": {},
   "outputs": [
    {
     "name": "stdout",
     "output_type": "stream",
     "text": [
      "it is equilateral triangle\n"
     ]
    }
   ],
   "source": [
    "# take the sides of the triangle:\n",
    "a = 25\n",
    "b = 25\n",
    "c =25\n",
    "# use nested if else to check if the triangle is equilateral,isosceles or scalene:\n",
    "if a==b or b==c or a==c :\n",
    "    if a==b==c:\n",
    "        print(\"it is equilateral triangle\")\n",
    "    else:\n",
    "        print(\"isosceles triangle.\")\n",
    "else:\n",
    "    print(\"scalene triangle\")"
   ]
  },
  {
   "cell_type": "markdown",
   "id": "69a9dbd9-6937-471d-86f5-6646d722346a",
   "metadata": {},
   "source": [
    "7. Build a program that determines the largest of three given numbers"
   ]
  },
  {
   "cell_type": "code",
   "execution_count": 11,
   "id": "97449aad-acbe-44e6-88e0-bd614ea3a262",
   "metadata": {},
   "outputs": [
    {
     "name": "stdout",
     "output_type": "stream",
     "text": [
      "a is largest\n"
     ]
    }
   ],
   "source": [
    "# take three numbers:\n",
    "a = 200\n",
    "b = 70\n",
    "c = 60\n",
    "\n",
    "# use if else condition to find the largest number:\n",
    "if a>b:\n",
    "    if a>c:\n",
    "        print(\"a is largest\")\n",
    "    else:\n",
    "        print(\"c is largest\")\n",
    "else:\n",
    "    print(\"b is largest\")"
   ]
  },
  {
   "cell_type": "markdown",
   "id": "83cd30a0-6aae-412b-8f70-9f95c2119d72",
   "metadata": {},
   "source": [
    "8. Develop a program that checks whether a character is a vowel or a consonant."
   ]
  },
  {
   "cell_type": "code",
   "execution_count": 12,
   "id": "e5e7f468-ab07-42b7-a146-06352a792a5e",
   "metadata": {},
   "outputs": [
    {
     "name": "stdin",
     "output_type": "stream",
     "text": [
      "Enter any alphabetic character: I\n"
     ]
    },
    {
     "name": "stdout",
     "output_type": "stream",
     "text": [
      "The character I is a vowel\n"
     ]
    }
   ],
   "source": [
    "# initialize a variable as character:\n",
    "char = input(\"Enter any alphabetic character:\")\n",
    "\n",
    "# use if else condition to check whether it is a vowel or consonant:\n",
    "if char in 'aAeEiIoOuU':\n",
    "    print(f\"The character {char} is a vowel\")\n",
    "else:\n",
    "    print(f\"The character {char} is a consonant.\")"
   ]
  },
  {
   "cell_type": "markdown",
   "id": "08368adb-ef3c-4c5c-a3f1-f634c86bb522",
   "metadata": {},
   "source": [
    "9. Create a program to calculate the total cost of a shopping cart based on discounts."
   ]
  },
  {
   "cell_type": "code",
   "execution_count": 3,
   "id": "241cc512-dc4c-47c6-9658-27d124ca7b9e",
   "metadata": {},
   "outputs": [
    {
     "name": "stdin",
     "output_type": "stream",
     "text": [
      "Enter the price of the item here : 1200\n"
     ]
    },
    {
     "name": "stdout",
     "output_type": "stream",
     "text": [
      "you got 10% discount.\n",
      "The new price of your item is : 1080.0\n"
     ]
    }
   ],
   "source": [
    "# Input the price of the item:\n",
    "price = float(input(\"Enter the price of the item here :\"))\n",
    "\n",
    "#initialize a variable to store discount:\n",
    "dis = 0\n",
    "\n",
    "# Use if else conditions to calculate the discounted price:\n",
    "if price>=2000:\n",
    "    dis = 0.2\n",
    "    print(\"You got 20% discount.\")\n",
    "elif 1000<=price<2000:\n",
    "    dis = 0.1\n",
    "    print(\"you got 10% discount.\")\n",
    "else:\n",
    "    print(\"you dont get any dicount.\")\n",
    "    \n",
    "# calculate the new price:\n",
    "new_price = price-(price*dis)\n",
    "\n",
    "# Print the discounted value:\n",
    "print(\"The new price of your item is :\",new_price)"
   ]
  },
  {
   "cell_type": "markdown",
   "id": "0e36b5cb-0ee0-4ad1-9161-4e5f619a974b",
   "metadata": {},
   "source": [
    "10. Write a program that checks if a given number is even or odd."
   ]
  },
  {
   "cell_type": "code",
   "execution_count": 14,
   "id": "b04114e0-5100-4f1a-a24a-a7b83ef731c9",
   "metadata": {},
   "outputs": [
    {
     "name": "stdout",
     "output_type": "stream",
     "text": [
      "36  is even\n"
     ]
    }
   ],
   "source": [
    "# Take a number:\n",
    "num = 36    \n",
    "# Use if-else condition to find if the num is even or odd:\n",
    "if num%2 == 0:\n",
    "    print(num,\" is even\")\n",
    "else:\n",
    "    print(num,\" is odd\")"
   ]
  },
  {
   "cell_type": "markdown",
   "id": "152a72f7-9252-4ffd-91b9-bfb23c0863fa",
   "metadata": {},
   "source": [
    "## Intermediate level:"
   ]
  },
  {
   "cell_type": "markdown",
   "id": "3bdab189-46f4-4326-bfed-e09c701449d4",
   "metadata": {},
   "source": [
    "11. Write a program that calculates the roots of a quadratic equation ."
   ]
  },
  {
   "cell_type": "code",
   "execution_count": 17,
   "id": "c5d292e7-b7da-4ab7-90dc-31ef5e8c7af4",
   "metadata": {},
   "outputs": [
    {
     "name": "stdin",
     "output_type": "stream",
     "text": [
      "Enter the value of a here : 2\n",
      "Enter the value of b here : 4\n",
      "Enter the value of c here : 2\n"
     ]
    },
    {
     "name": "stdout",
     "output_type": "stream",
     "text": [
      "discriminant =  0\n",
      "The roots are real and same :\n",
      "-4.0\n"
     ]
    }
   ],
   "source": [
    "## first we take the values of a,b and c from the user to satisfy the quadratic equation which is (ax**2 + bx + c):\n",
    "a = int(input(\"Enter the value of a here :\"))\n",
    "b = int(input(\"Enter the value of b here :\"))\n",
    "c = int(input(\"Enter the value of c here :\"))\n",
    "\n",
    "# Find the discriminant:\n",
    "d = b**2 - 4*a*c\n",
    "print(\"discriminant = \",d)\n",
    "# use nested if to find the roots of the equation:\n",
    "if d>=0:\n",
    "    if d == 0:\n",
    "        print(\"The roots are real and same :\")\n",
    "        print((-b)/2*a)\n",
    "    else:\n",
    "        print(\"The roots are real and different.\")\n",
    "        print(\"root1 = \",(-b+(d)**0.5)/2*a, \"root2 =\",(-b - (d)**0.5)/2*a)\n",
    "else:\n",
    "    print(\"The roots are complex:\")\n",
    "    print(\"root1 = \",(-b+(-1*-d)**0.5)/2*a, \"root2 =\",(-b - (-1*-d)**0.5)/2*a)\n"
   ]
  },
  {
   "cell_type": "markdown",
   "id": "f088b434-66d6-4222-a576-9e3b72b7f5d2",
   "metadata": {},
   "source": [
    "12. Create a program that determines the day of the week based on the day number (1-7)."
   ]
  },
  {
   "cell_type": "code",
   "execution_count": 20,
   "id": "759c8fca-fc9f-4eed-99e6-deb3a4e91c47",
   "metadata": {},
   "outputs": [
    {
     "name": "stdin",
     "output_type": "stream",
     "text": [
      "Enter your number here : 4\n"
     ]
    },
    {
     "name": "stdout",
     "output_type": "stream",
     "text": [
      "Thursday\n"
     ]
    }
   ],
   "source": [
    "# take a number from user:\n",
    "user_input = int(input(\"Enter your number here :\"))\n",
    "# use nested if to determine the day of the wee:\n",
    "if user_input == 1:\n",
    "    print(\"Monday\")\n",
    "if user_input == 2:\n",
    "    print(\"Tuesday\")\n",
    "if user_input == 3:\n",
    "    print(\"Wednesday\")\n",
    "if user_input == 4:\n",
    "    print(\"Thursday\")\n",
    "if user_input == 5:\n",
    "    print(\"Friday\")\n",
    "if user_input == 6:\n",
    "    print(\"Saturday\")\n",
    "if user_input == 7:\n",
    "    print(\"Sunday\")\n",
    "    \n",
    "else:\n",
    "    if user_input > 7:\n",
    "        print(\"invalid number\")\n"
   ]
  },
  {
   "cell_type": "markdown",
   "id": "1f1c5809-c371-4321-961d-7b1cb64a70b6",
   "metadata": {},
   "source": [
    "13. Develop a program that calculates the factorial of a given number using recursion."
   ]
  },
  {
   "cell_type": "code",
   "execution_count": 5,
   "id": "8923fa94-3fc9-4cf0-89bb-c782eb605033",
   "metadata": {},
   "outputs": [
    {
     "name": "stdin",
     "output_type": "stream",
     "text": [
      "Enter the number here : 3\n"
     ]
    },
    {
     "name": "stdout",
     "output_type": "stream",
     "text": [
      "The factorial of 3 is 6 .\n"
     ]
    }
   ],
   "source": [
    "# define a function to claculate factorial:\n",
    "def factorial(n):\n",
    "    if n==0:\n",
    "        return 1\n",
    "    else:\n",
    "        return n*factorial(n-1)\n",
    "    \n",
    "# Input a number from the user whose factorial is to be calculated:\n",
    "num = int(input(\"Enter the number here :\"))\n",
    "\n",
    "# Check if the input is positive:\n",
    "if num<0:\n",
    "    print(\"Factorial is not defined for negative numbers.\")\n",
    "else:\n",
    "    result = factorial(num)\n",
    "    print(f\"The factorial of {num} is {result} .\")"
   ]
  },
  {
   "cell_type": "markdown",
   "id": "74d0585c-bcfb-4902-840f-f804919308d1",
   "metadata": {},
   "source": [
    "14. Write a program to find the largest among three numbers without using the `max()` function."
   ]
  },
  {
   "cell_type": "code",
   "execution_count": 8,
   "id": "4a64740a-5dbb-44ac-9fd1-4912c93b7664",
   "metadata": {},
   "outputs": [
    {
     "name": "stdout",
     "output_type": "stream",
     "text": [
      "b is largest\n"
     ]
    }
   ],
   "source": [
    "# take three numbers:\n",
    "a = 200\n",
    "b = 700\n",
    "c = 600\n",
    "\n",
    "# use if else condition to find the largest number:\n",
    "if a>b:\n",
    "    if a>c:\n",
    "        print(\"a is largest\")\n",
    "    else:\n",
    "        print(\"c is largest\")\n",
    "else:\n",
    "    print(\"b is largest\")"
   ]
  },
  {
   "cell_type": "markdown",
   "id": "81f07d6e-7cc5-4a73-b989-4d51a5ab3973",
   "metadata": {},
   "source": [
    "15. Create a program that simulates a basic ATM transaction menu."
   ]
  },
  {
   "cell_type": "code",
   "execution_count": 3,
   "id": "c5a2c977-faba-4cac-a9e5-41d3d7344e33",
   "metadata": {},
   "outputs": [
    {
     "name": "stdout",
     "output_type": "stream",
     "text": [
      "ATM menu: \n",
      "1. Check Balance :\n",
      "2. Make Withdrawal :\n",
      "3. Quit.\n"
     ]
    },
    {
     "name": "stdin",
     "output_type": "stream",
     "text": [
      "Enter your choice (1/2/3) : 2\n",
      "Enter the withdrawal amount : $ 500\n"
     ]
    },
    {
     "name": "stdout",
     "output_type": "stream",
     "text": [
      "Withdrew $ 500.00. your new balance is 500.0\n",
      "ATM menu: \n",
      "1. Check Balance :\n",
      "2. Make Withdrawal :\n",
      "3. Quit.\n"
     ]
    },
    {
     "name": "stdin",
     "output_type": "stream",
     "text": [
      "Enter your choice (1/2/3) : 2\n",
      "Enter the withdrawal amount : $ 500\n"
     ]
    },
    {
     "name": "stdout",
     "output_type": "stream",
     "text": [
      "Withdrew $ 500.00. your new balance is 0.0\n",
      "ATM menu: \n",
      "1. Check Balance :\n",
      "2. Make Withdrawal :\n",
      "3. Quit.\n"
     ]
    },
    {
     "name": "stdin",
     "output_type": "stream",
     "text": [
      "Enter your choice (1/2/3) : 3\n"
     ]
    },
    {
     "name": "stdout",
     "output_type": "stream",
     "text": [
      "Invalid choice.Please select a valid option (1/2/3)\n"
     ]
    }
   ],
   "source": [
    "# Initialize the current account balance:\n",
    "balance = 1000.0\n",
    "\n",
    "# Main program loop:\n",
    "while True:\n",
    "        print(\"ATM menu: \")\n",
    "        print(\"1. Check Balance :\")\n",
    "        print(\"2. Make Withdrawal :\")\n",
    "        print(\"3. Quit.\")\n",
    "    \n",
    "# get user input for menu choice:\n",
    "        choice = input(\"Enter your choice (1/2/3) :\")\n",
    "    \n",
    "        if choice == '1':\n",
    "            print(f\"Your account balance is $ {balance:.2f}\")\n",
    "        elif choice== '2':\n",
    "            withdrawal_amount = float(input(\"Enter the withdrawal amount : $\"))\n",
    "            if withdrawal_amount > balance:\n",
    "                print(\"Insufficient fund,cannot withdraw.\")\n",
    "            else:\n",
    "                balance -= withdrawal_amount\n",
    "                print(f\"Withdrew ${withdrawal_amount: .2f}. your new balance is {balance}\")\n",
    "        elif choice == 3:\n",
    "            print(\"Thankyou for using the ATM .Goodbye!\")\n",
    "            break\n",
    "        else:\n",
    "            print(\"Invalid choice.Please select a valid option (1/2/3)\")\n",
    "            break\n",
    "        \n",
    "        "
   ]
  },
  {
   "cell_type": "markdown",
   "id": "8787ee0c-009d-4c02-b4c3-2957ec0480fc",
   "metadata": {},
   "source": [
    "16. Build a program that checks if a given string is a palindrome or not."
   ]
  },
  {
   "cell_type": "code",
   "execution_count": 1,
   "id": "db2238ff-453d-439a-944a-053a977283b6",
   "metadata": {},
   "outputs": [
    {
     "name": "stdin",
     "output_type": "stream",
     "text": [
      "Enter your string here : carrac\n"
     ]
    },
    {
     "name": "stdout",
     "output_type": "stream",
     "text": [
      "The carrac is palindrome.\n"
     ]
    }
   ],
   "source": [
    "# Input a string from the user:\n",
    "string = input(\"Enter your string here :\")\n",
    "\n",
    "# using if else condition, find if the string is palindrome or not:\n",
    "if string == string[::-1]:\n",
    "    print(f\"The {string} is palindrome.\")\n",
    "else:\n",
    "    print(\"It is not palindrome.\")"
   ]
  },
  {
   "cell_type": "markdown",
   "id": "5551a90e-8d5e-45f3-a8f1-6b598fbbc849",
   "metadata": {},
   "source": [
    "17. Write a program that calculates the average of a list of numbers, excluding the smallest and largest values."
   ]
  },
  {
   "cell_type": "code",
   "execution_count": 5,
   "id": "0f414382-d4e8-4419-8834-5b4e122ede57",
   "metadata": {},
   "outputs": [
    {
     "name": "stdin",
     "output_type": "stream",
     "text": [
      "Enter a list of numbers separated by commas : 2,3,6\n"
     ]
    },
    {
     "name": "stdout",
     "output_type": "stream",
     "text": [
      "The average of the numbers (excluding the smallest and largest) is 3.0\n"
     ]
    }
   ],
   "source": [
    "# Input a list of numbers as a comma - separated string:\n",
    "numbers_str = input(\"Enter a list of numbers separated by commas :\")\n",
    "\n",
    "# convert the input string into a list of floats:\n",
    "numbers_list =[float(x) for x in numbers_str.split(',')]\n",
    "\n",
    "# check if there are at least 3 numbers in the list:\n",
    "if len(numbers_list) < 3:\n",
    "    print(\"you need to input at least 3 numbers.\")\n",
    "else:\n",
    "    # Remove the smallest and largest values from the list.\n",
    "    numbers_list.remove(min(numbers_list))\n",
    "    numbers_list.remove(max(numbers_list))\n",
    "    \n",
    "    # calculate the average of the remaining numbers:\n",
    "    average = sum(numbers_list)/len(numbers_list)\n",
    "    print(f\"The average of the numbers (excluding the smallest and largest) is {average}\")"
   ]
  },
  {
   "cell_type": "markdown",
   "id": "aaad4118-dccc-439f-8746-462c9eaf0217",
   "metadata": {},
   "source": [
    "18. Develop a program that converts a given temperature from Celsius to Fahrenheit."
   ]
  },
  {
   "cell_type": "code",
   "execution_count": 26,
   "id": "be3b4e00-2aeb-4a43-97f3-1281e1474754",
   "metadata": {},
   "outputs": [
    {
     "name": "stdin",
     "output_type": "stream",
     "text": [
      "Enter the temperature here : 32\n"
     ]
    },
    {
     "name": "stdout",
     "output_type": "stream",
     "text": [
      "Temperature in celsius : 32.0\n",
      "Temperature converted into fahrenheit : 89.6\n"
     ]
    }
   ],
   "source": [
    "# Input temperature in celsius:\n",
    "temp = float(input(\"Enter the temperature here :\"))\n",
    "\n",
    "# convert celsius to fahrenheit:\n",
    "fahren_temp = (temp*9/5) + 32\n",
    "\n",
    "# print the temperatures:\n",
    "print(\"Temperature in celsius :\",temp)\n",
    "print(\"Temperature converted into fahrenheit :\",fahren_temp)"
   ]
  },
  {
   "cell_type": "markdown",
   "id": "66453369-f1c2-4f9a-8296-40d1915f378a",
   "metadata": {},
   "source": [
    "19. Create a program that simulates a basic calculator for addition, subtraction, multiplication, and division."
   ]
  },
  {
   "cell_type": "code",
   "execution_count": 25,
   "id": "7528f48a-94f8-4dc1-93fe-2bf4e9fb473f",
   "metadata": {},
   "outputs": [
    {
     "name": "stdin",
     "output_type": "stream",
     "text": [
      "Enter the first number here : 2\n",
      "Enter operator here:  *\n",
      "Enter the second number here : 5\n"
     ]
    },
    {
     "name": "stdout",
     "output_type": "stream",
     "text": [
      "10.0\n"
     ]
    }
   ],
   "source": [
    "# Input the numbers and operators:\n",
    "a = float(input(\"Enter the first number here :\"))\n",
    "operator = input(\"Enter operator here: \")\n",
    "b = float(input(\"Enter the second number here :\"))\n",
    "\n",
    "# calculator:\n",
    "if operator == '+':\n",
    "    print(a+b)\n",
    "elif operator == '-':\n",
    "    print(b-a)\n",
    "elif operator == '*':\n",
    "    print(a*b)\n",
    "else:\n",
    "    print(b/a)"
   ]
  },
  {
   "cell_type": "markdown",
   "id": "00e62e33-4012-4daa-8520-24c2f5dd2e9c",
   "metadata": {},
   "source": [
    "20. Write a program that determines the roots of a cubic equation using the Cardano formula."
   ]
  },
  {
   "cell_type": "code",
   "execution_count": 1,
   "id": "1988f60f-e949-4117-87a7-c4a07d75a0ae",
   "metadata": {},
   "outputs": [
    {
     "name": "stdin",
     "output_type": "stream",
     "text": [
      "Enter coefficient a:  6\n",
      "Enter coefficient b:  5\n",
      "Enter coefficient c:  4\n",
      "Enter coefficient d:  3\n"
     ]
    },
    {
     "name": "stdout",
     "output_type": "stream",
     "text": [
      "Root 1: -0.7903\n",
      "Root 2: -0.0215-0.7951j\n",
      "Root 3: -0.0215+0.7951j\n"
     ]
    }
   ],
   "source": [
    "import math\n",
    "\n",
    "# Input coefficients of the cubic equation: ax^3 + bx^2 + cx + d = 0\n",
    "a = float(input(\"Enter coefficient a: \"))\n",
    "b = float(input(\"Enter coefficient b: \"))\n",
    "c = float(input(\"Enter coefficient c: \"))\n",
    "d = float(input(\"Enter coefficient d: \"))\n",
    "\n",
    "# Calculate the discriminant and intermediate values\n",
    "delta0 = b**2 - 3*a*c\n",
    "delta1 = 2*b**3 - 9*a*b*c + 27*a**2*d\n",
    "C = ((delta1 + math.sqrt(delta1**2 - 4*delta0**3)) / 2)**(1/3)\n",
    "\n",
    "# Calculate the roots\n",
    "root1 = (-1 / (3*a)) * (b + C + delta0/C)\n",
    "root2 = (-1 / (3*a)) * (b + complex(-0.5, math.sqrt(3)/2) * C + complex(-0.5, -math.sqrt(3)/2) * delta0/C)\n",
    "root3 = (-1 / (3*a)) * (b + complex(-0.5, -math.sqrt(3)/2) * C + complex(-0.5, math.sqrt(3)/2) * delta0/C)\n",
    "\n",
    "# Display the roots\n",
    "print(f\"Root 1: {root1:.4f}\")\n",
    "print(f\"Root 2: {root2:.4f}\")\n",
    "print(f\"Root 3: {root3:.4f}\")"
   ]
  },
  {
   "cell_type": "markdown",
   "id": "fee62acb-ca4e-4abd-97c1-f380c14b376e",
   "metadata": {},
   "source": [
    "## Advanced level"
   ]
  },
  {
   "cell_type": "markdown",
   "id": "14d05cd5-5b93-4896-b16f-666a84e78f1b",
   "metadata": {},
   "source": [
    "21. Create a program that calculates the income tax based on the user's income and tax brackets."
   ]
  },
  {
   "cell_type": "code",
   "execution_count": 2,
   "id": "03d12159-5aaf-4a6d-b370-ffb723147e40",
   "metadata": {},
   "outputs": [
    {
     "name": "stdin",
     "output_type": "stream",
     "text": [
      "Enter your income:  5000\n"
     ]
    },
    {
     "name": "stdout",
     "output_type": "stream",
     "text": [
      "Your income tax owed is: $500.00\n"
     ]
    }
   ],
   "source": [
    "# Define the tax brackets and rates\n",
    "tax_brackets = [(0, 9875), (9876, 40125), (40126, 85525), (85526, 163300), (163301, 207350), (207351, 518400)]\n",
    "tax_rates = [0.1, 0.12, 0.22, 0.24, 0.32, 0.35, 0.37]\n",
    "\n",
    "# Get user's income\n",
    "income = input(\"Enter your income: \")\n",
    "\n",
    "# Check if the input is a valid number\n",
    "if income.isdigit():\n",
    "    income = int(income)\n",
    "    tax_owed = 0\n",
    "\n",
    "    # Calculate tax based on the tax brackets\n",
    "    for i in range(len(tax_brackets)):\n",
    "        lower, upper = tax_brackets[i]\n",
    "        rate = tax_rates[i]\n",
    "\n",
    "        if income <= lower:\n",
    "            break\n",
    "        elif income <= upper:\n",
    "            tax_owed += (income - lower) * rate\n",
    "            break\n",
    "        else:\n",
    "            tax_owed += (upper - lower) * rate\n",
    "\n",
    "    print(f\"Your income tax owed is: ${tax_owed:.2f}\")\n",
    "else:\n",
    "    print(\"Invalid input. Please enter a valid income as a positive integer.\")"
   ]
  },
  {
   "cell_type": "markdown",
   "id": "9540b481-b466-4fd1-9ce4-c12468891d7d",
   "metadata": {},
   "source": [
    "22. Write a program that simulates a rock-paper-scissors game against the computer."
   ]
  },
  {
   "cell_type": "code",
   "execution_count": 3,
   "id": "b139c64d-32ed-48bd-9562-9176f0088fd4",
   "metadata": {},
   "outputs": [
    {
     "name": "stdin",
     "output_type": "stream",
     "text": [
      "Enter your choice (rock, paper, or scissors):  rock\n"
     ]
    },
    {
     "name": "stdout",
     "output_type": "stream",
     "text": [
      "Your choice: rock\n",
      "Computer's choice: rock\n",
      "It's a tie!\n"
     ]
    }
   ],
   "source": [
    "import random\n",
    "\n",
    "# Define the choices\n",
    "choices = [\"rock\", \"paper\", \"scissors\"]\n",
    "\n",
    "# Get user's choice\n",
    "user_choice = input(\"Enter your choice (rock, paper, or scissors): \").lower()\n",
    "\n",
    "# Check if the user's choice is valid\n",
    "if user_choice not in choices:\n",
    "    print(\"Invalid choice. Please choose from rock, paper, or scissors.\")\n",
    "else:\n",
    "    # Generate a random choice for the computer\n",
    "    computer_choice = random.choice(choices)\n",
    "\n",
    "    # Display the choices\n",
    "    print(f\"Your choice: {user_choice}\")\n",
    "    print(f\"Computer's choice: {computer_choice}\")\n",
    "\n",
    "    # Determine the winner\n",
    "    if user_choice == computer_choice:\n",
    "        print(\"It's a tie!\")\n",
    "    elif (\n",
    "        (user_choice == \"rock\" and computer_choice == \"scissors\")\n",
    "        or (user_choice == \"paper\" and computer_choice == \"rock\")\n",
    "        or (user_choice == \"scissors\" and computer_choice == \"paper\")\n",
    "    ):\n",
    "        print(\"You win!\")\n",
    "    else:\n",
    "        print(\"Computer wins!\")"
   ]
  },
  {
   "cell_type": "markdown",
   "id": "ca1d9619-a8c7-41a9-9cf3-202e403f68e5",
   "metadata": {},
   "source": [
    "23. Develop a program that generates a random password based on user preferences (length, complexity)."
   ]
  },
  {
   "cell_type": "code",
   "execution_count": 7,
   "id": "0459836a-1119-4a0c-b0a7-7a37d3e5392e",
   "metadata": {},
   "outputs": [
    {
     "name": "stdin",
     "output_type": "stream",
     "text": [
      "Enter the length of the password:  8\n",
      "Include lowercase letters? (yes/no):  no\n",
      "Include uppercase letters? (yes/no):  yes\n",
      "Include digits? (yes/no):  yes\n",
      "Include special characters? (yes/no):  no\n"
     ]
    },
    {
     "name": "stdout",
     "output_type": "stream",
     "text": [
      "Generated Password: X5DPLT0Z\n"
     ]
    }
   ],
   "source": [
    "import random\n",
    "import string\n",
    "\n",
    "# Get user preferences\n",
    "length = int(input(\"Enter the length of the password: \"))\n",
    "use_lowercase = input(\"Include lowercase letters? (yes/no): \").lower() == \"yes\"\n",
    "use_uppercase = input(\"Include uppercase letters? (yes/no): \").lower() == \"yes\"\n",
    "use_digits = input(\"Include digits? (yes/no): \").lower() == \"yes\"\n",
    "use_special_chars = input(\"Include special characters? (yes/no): \").lower() == \"yes\"\n",
    "\n",
    "# Define character sets\n",
    "characters = \"\"\n",
    "if use_lowercase:\n",
    "    characters += string.ascii_lowercase\n",
    "if use_uppercase:\n",
    "    characters += string.ascii_uppercase\n",
    "if use_digits:\n",
    "    characters += string.digits\n",
    "if use_special_chars:\n",
    "    characters += string.punctuation\n",
    "\n",
    "# Check if at least one character set is selected\n",
    "if not characters:\n",
    "    print(\"Please select at least one character set.\")\n",
    "else:\n",
    "    # Generate the password\n",
    "    password = ''.join(random.choice(characters) for i in range(length))\n",
    "    print(\"Generated Password:\", password)"
   ]
  },
  {
   "cell_type": "markdown",
   "id": "a982cc54-0340-4157-8bbe-f0b265614e90",
   "metadata": {},
   "source": [
    "24. Create a program that implements a simple text-based adventure game with branching scenarios."
   ]
  },
  {
   "cell_type": "code",
   "execution_count": 8,
   "id": "56ee4d2c-5c94-47b9-a261-ce2de393f9c7",
   "metadata": {},
   "outputs": [
    {
     "name": "stdout",
     "output_type": "stream",
     "text": [
      "Welcome to the Adventure Game!\n",
      "\n",
      "You find yourself standing in front of a mysterious cave.\n"
     ]
    },
    {
     "name": "stdin",
     "output_type": "stream",
     "text": [
      "Do you want to enter the cave? (yes/no):  yes\n"
     ]
    },
    {
     "name": "stdout",
     "output_type": "stream",
     "text": [
      "\n",
      "You enter the cave and it's very dark inside.\n"
     ]
    },
    {
     "name": "stdin",
     "output_type": "stream",
     "text": [
      "Do you want to use a flashlight? (yes/no):  yes\n"
     ]
    },
    {
     "name": "stdout",
     "output_type": "stream",
     "text": [
      "\n",
      "You turn on the flashlight and see a fork in the path ahead.\n"
     ]
    },
    {
     "name": "stdin",
     "output_type": "stream",
     "text": [
      "Do you want to go left or right? (left/right):  left\n"
     ]
    },
    {
     "name": "stdout",
     "output_type": "stream",
     "text": [
      "\n",
      "You encounter a treasure chest filled with gold! You're rich!\n",
      "\n",
      "Thanks for playing the Adventure Game!\n"
     ]
    }
   ],
   "source": [
    "# Text-based adventure game\n",
    "\n",
    "print(\"Welcome to the Adventure Game!\")\n",
    "\n",
    "# Start of the game\n",
    "print(\"\\nYou find yourself standing in front of a mysterious cave.\")\n",
    "choice = input(\"Do you want to enter the cave? (yes/no): \").lower()\n",
    "\n",
    "if choice == \"yes\":\n",
    "    print(\"\\nYou enter the cave and it's very dark inside.\")\n",
    "    choice = input(\"Do you want to use a flashlight? (yes/no): \").lower()\n",
    "\n",
    "    if choice == \"yes\":\n",
    "        print(\"\\nYou turn on the flashlight and see a fork in the path ahead.\")\n",
    "        choice = input(\"Do you want to go left or right? (left/right): \").lower()\n",
    "\n",
    "        if choice == \"left\":\n",
    "            print(\"\\nYou encounter a treasure chest filled with gold! You're rich!\")\n",
    "        elif choice == \"right\":\n",
    "            print(\"\\nYou stumble into a trap and fall into a pit. Game over!\")\n",
    "        else:\n",
    "            print(\"Invalid choice. Game over!\")\n",
    "\n",
    "    elif choice == \"no\":\n",
    "        print(\"\\nYou decide to proceed in the dark. Unfortunately, you trip and fall into a pit. Game over!\")\n",
    "\n",
    "    else:\n",
    "        print(\"Invalid choice. Game over!\")\n",
    "\n",
    "elif choice == \"no\":\n",
    "    print(\"\\nYou decide not to enter the cave and go home instead. Game over!\")\n",
    "\n",
    "else:\n",
    "    print(\"Invalid choice. Game over!\")\n",
    "\n",
    "print(\"\\nThanks for playing the Adventure Game!\")"
   ]
  },
  {
   "cell_type": "markdown",
   "id": "90a735b7-b43e-47d1-b259-268b3f44e7fd",
   "metadata": {},
   "source": [
    "25. Build a program that solves a linear equation for x, considering different cases."
   ]
  },
  {
   "cell_type": "code",
   "execution_count": 9,
   "id": "5f918477-8e4f-449e-8af5-931bf94158b4",
   "metadata": {},
   "outputs": [
    {
     "name": "stdin",
     "output_type": "stream",
     "text": [
      "Enter the coefficient 'a' (a*x + b = 0):  3\n",
      "Enter the coefficient 'b' (a*x + b = 0):  3\n"
     ]
    },
    {
     "name": "stdout",
     "output_type": "stream",
     "text": [
      "The solution to the linear equation 3.0*x + 3.0 = 0 is x = -1.00\n"
     ]
    }
   ],
   "source": [
    "# Get coefficients from the user\n",
    "a = float(input(\"Enter the coefficient 'a' (a*x + b = 0): \"))\n",
    "b = float(input(\"Enter the coefficient 'b' (a*x + b = 0): \"))\n",
    "\n",
    "# Check different cases of linear equations\n",
    "\n",
    "if a == 0 and b == 0:\n",
    "    print(\"Infinite solutions. The equation is trivial (0*x = 0).\")\n",
    "\n",
    "elif a == 0 and b != 0:\n",
    "    print(\"No solution. The equation is inconsistent (0*x + b = 0, where b is not 0).\")\n",
    "\n",
    "else:\n",
    "    x = -b / a\n",
    "    print(f\"The solution to the linear equation {a}*x + {b} = 0 is x = {x:.2f}\")"
   ]
  },
  {
   "cell_type": "markdown",
   "id": "42de6795-5481-4e0d-9573-ee3ace7db920",
   "metadata": {},
   "source": [
    "26. Write a program that simulates a basic quiz game with multiple-choice questions and scoring."
   ]
  },
  {
   "cell_type": "code",
   "execution_count": 10,
   "id": "f66ad5a8-380e-495c-81f9-0e0ba618de9e",
   "metadata": {},
   "outputs": [
    {
     "name": "stdout",
     "output_type": "stream",
     "text": [
      "\n",
      "Question 1: Who is the director of Sahoo?\n",
      "A) Sujeeth\n",
      "B) Sukumar\n",
      "C) Vamsi\n",
      "D) None\n"
     ]
    },
    {
     "name": "stdin",
     "output_type": "stream",
     "text": [
      "Your answer (A/B/C/D):  a\n"
     ]
    },
    {
     "name": "stdout",
     "output_type": "stream",
     "text": [
      "Correct!\n",
      "\n",
      "Question 2: Who is Known as God of Cricket?\n",
      "A) Sachin\n",
      "B) Rohit sharma\n",
      "C) Kholi\n",
      "D) SKY\n"
     ]
    },
    {
     "name": "stdin",
     "output_type": "stream",
     "text": [
      "Your answer (A/B/C/D):  a\n"
     ]
    },
    {
     "name": "stdout",
     "output_type": "stream",
     "text": [
      "Correct!\n",
      "\n",
      "Question 3: Who is the Founder of PW Skills?\n",
      "A) Alakh pandey\n",
      "B) sunil varma\n",
      "C) sai charan\n",
      "D) Bhavani\n"
     ]
    },
    {
     "name": "stdin",
     "output_type": "stream",
     "text": [
      "Your answer (A/B/C/D):  a\n"
     ]
    },
    {
     "name": "stdout",
     "output_type": "stream",
     "text": [
      "Correct!\n",
      "\n",
      "Quiz completed!\n",
      "Your score: 3/3\n"
     ]
    }
   ],
   "source": [
    "# Quiz questions and answers:\n",
    "questions = [\n",
    "    {\n",
    "        \"question\": \"Who is the director of Sahoo?\",\n",
    "        \"options\": [\"A) Sujeeth\", \"B) Sukumar\", \"C) Vamsi\", \"D) None\"],\n",
    "        \"correct_answer\": \"A\",\n",
    "    },\n",
    "    {\n",
    "        \"question\": \"Who is Known as God of Cricket?\",\n",
    "        \"options\": [\"A) Sachin\", \"B) Rohit sharma\", \"C) Kholi\", \"D) SKY\"],\n",
    "        \"correct_answer\": \"A\",\n",
    "    },\n",
    "    {\n",
    "        \"question\": \"Who is the Founder of PW Skills?\",\n",
    "        \"options\": [\"A) Alakh pandey\", \"B) sunil varma\", \"C) sai charan\", \"D) Bhavani\"],\n",
    "        \"correct_answer\": \"A\",\n",
    "    },\n",
    "]\n",
    "\n",
    "# Initialize the score\n",
    "score = 0\n",
    "\n",
    "# Quiz loop\n",
    "for i, question in enumerate(questions, 1):\n",
    "    print(f\"\\nQuestion {i}: {question['question']}\")\n",
    "    for option in question[\"options\"]:\n",
    "        print(option)\n",
    "    \n",
    "    user_answer = input(\"Your answer (A/B/C/D): \").upper()\n",
    "\n",
    "    if user_answer == question[\"correct_answer\"]:\n",
    "        print(\"Correct!\")\n",
    "        score += 1\n",
    "    else:\n",
    "        print(f\"Wrong! The correct answer is {question['correct_answer']}.\")\n",
    "\n",
    "# Display the final score\n",
    "print(\"\\nQuiz completed!\")\n",
    "print(f\"Your score: {score}/{len(questions)}\")"
   ]
  },
  {
   "cell_type": "markdown",
   "id": "7fdd09a2-3182-4522-9c17-e3afc06b334a",
   "metadata": {},
   "source": [
    "27. Develop a program that determines whether a given year is a prime number or not."
   ]
  },
  {
   "cell_type": "code",
   "execution_count": 11,
   "id": "5e1788df-de45-4ce3-8633-80bd792bb9d3",
   "metadata": {},
   "outputs": [
    {
     "name": "stdin",
     "output_type": "stream",
     "text": [
      "Enter the year to be checked 2024\n"
     ]
    },
    {
     "name": "stdout",
     "output_type": "stream",
     "text": [
      "Its not a prime\n"
     ]
    }
   ],
   "source": [
    "n=int(input(\"Enter the year to be checked\"))\n",
    "if n>1:\n",
    "    for i in range(2,int(n**0.5)+1):\n",
    "        if n%i==0:\n",
    "            print(\"Its not a prime\")\n",
    "            break\n",
    "    else:\n",
    "        print(\"Its a prime number\")\n",
    "else:\n",
    "    print(\"Its not a prime\")"
   ]
  },
  {
   "cell_type": "markdown",
   "id": "d2199a11-385c-4ae0-bb42-8a10b605012d",
   "metadata": {},
   "source": [
    "28. Create a program that sorts three numbers in ascending order using conditional statements."
   ]
  },
  {
   "cell_type": "code",
   "execution_count": 12,
   "id": "9df3b51a-5e31-4473-8456-221a37540a6a",
   "metadata": {},
   "outputs": [
    {
     "name": "stdin",
     "output_type": "stream",
     "text": [
      "Enter the first number:  4\n",
      "Enter the second number:  5\n",
      "Enter the third number:  6\n"
     ]
    },
    {
     "name": "stdout",
     "output_type": "stream",
     "text": [
      "Sorted numbers in ascending order: [4.0, 5.0, 6.0]\n"
     ]
    }
   ],
   "source": [
    "# Get three numbers from the user\n",
    "num1 = float(input(\"Enter the first number: \"))\n",
    "num2 = float(input(\"Enter the second number: \"))\n",
    "num3 = float(input(\"Enter the third number: \"))\n",
    "\n",
    "# Use conditional statements to sort the numbers in ascending order\n",
    "if num1 <= num2 <= num3:\n",
    "    sorted_nums = [num1, num2, num3]\n",
    "elif num1 <= num3 <= num2:\n",
    "    sorted_nums = [num1, num3, num2]\n",
    "elif num2 <= num1 <= num3:\n",
    "    sorted_nums = [num2, num1, num3]\n",
    "elif num2 <= num3 <= num1:\n",
    "    sorted_nums = [num2, num3, num1]\n",
    "elif num3 <= num1 <= num2:\n",
    "    sorted_nums = [num3, num1, num2]\n",
    "else:\n",
    "    sorted_nums = [num3, num2, num1]\n",
    "\n",
    "# Display the sorted numbers\n",
    "print(\"Sorted numbers in ascending order:\", sorted_nums)"
   ]
  },
  {
   "cell_type": "markdown",
   "id": "301715f0-2e86-41d8-af36-1e529d1ef73b",
   "metadata": {},
   "source": [
    "29. Build a program that determines the roots of a quartic equation using numerical methods."
   ]
  },
  {
   "cell_type": "code",
   "execution_count": 13,
   "id": "4a64c73d-f793-4ec3-bfbe-ff4c0d12ab68",
   "metadata": {},
   "outputs": [
    {
     "name": "stdin",
     "output_type": "stream",
     "text": [
      "Enter the coefficient 'a':  1\n",
      "Enter the coefficient 'b':  -4\n",
      "Enter the coefficient 'c':  3\n"
     ]
    },
    {
     "name": "stdout",
     "output_type": "stream",
     "text": [
      "Root 1 = 3.0\n",
      "Root 2 = 1.0\n"
     ]
    }
   ],
   "source": [
    "import math\n",
    "\n",
    "# Input coefficients of the quadratic equation\n",
    "a = float(input(\"Enter the coefficient 'a': \"))\n",
    "b = float(input(\"Enter the coefficient 'b': \"))\n",
    "c = float(input(\"Enter the coefficient 'c': \"))\n",
    "\n",
    "# Calculate the discriminant\n",
    "discriminant = b**2 - 4*a*c\n",
    "\n",
    "# Check the discriminant to determine the nature of roots\n",
    "if discriminant > 0:\n",
    "    # Two real and distinct roots\n",
    "    root1 = (-b + math.sqrt(discriminant)) / (2*a)\n",
    "    root2 = (-b - math.sqrt(discriminant)) / (2*a)\n",
    "    print(\"Root 1 =\", root1)\n",
    "    print(\"Root 2 =\", root2)\n",
    "elif discriminant == 0:\n",
    "    # One real root (repeated)\n",
    "    root = -b / (2*a)\n",
    "    print(\"Root =\", root)\n",
    "else:\n",
    "    # Complex roots\n",
    "    real_part = -b / (2*a)\n",
    "    imaginary_part = math.sqrt(abs(discriminant)) / (2*a)\n",
    "    print(\"Root 1 =\", real_part, \"+\", imaginary_part, \"i\")\n",
    "    print(\"Root 2 =\", real_part, \"-\", imaginary_part, \"i\")"
   ]
  },
  {
   "cell_type": "markdown",
   "id": "c0693bea-c1bd-4821-bd92-0ae0ad5eb4d9",
   "metadata": {},
   "source": [
    "30. Write a program that calculates the BMI (Body Mass Index) and provides health recommendations based\n",
    "on the user's input."
   ]
  },
  {
   "cell_type": "code",
   "execution_count": 14,
   "id": "e39df8c2-5d9f-4795-9b8a-8d56654b2b1f",
   "metadata": {},
   "outputs": [
    {
     "name": "stdin",
     "output_type": "stream",
     "text": [
      "Enter your weight in kilograms:  76\n",
      "Enter your height in meters:  2\n"
     ]
    },
    {
     "name": "stdout",
     "output_type": "stream",
     "text": [
      "Your BMI is 19.00, and you are categorized as Normal.\n"
     ]
    }
   ],
   "source": [
    "# Input weight and height\n",
    "weight = float(input(\"Enter your weight in kilograms: \"))\n",
    "height = float(input(\"Enter your height in meters: \"))\n",
    "\n",
    "# Calculate BMI\n",
    "bmi = weight / (height ** 2)\n",
    "\n",
    "# Categorize BMI using elif statements\n",
    "if bmi < 18.5:\n",
    "    category = \"Underweight\"\n",
    "elif 18.5 <= bmi < 24.9:\n",
    "    category = \"Normal\"\n",
    "elif 24.9 <= bmi < 29.9:\n",
    "    category = \"Overweight\"\n",
    "else:\n",
    "    category = \"Obese\"\n",
    "\n",
    "# Display the result\n",
    "print(f\"Your BMI is {bmi:.2f}, and you are categorized as {category}.\")"
   ]
  },
  {
   "cell_type": "markdown",
   "id": "d808e8f2-58e4-4722-ae4a-f0b04fec21d7",
   "metadata": {},
   "source": [
    "## Challenge level:"
   ]
  },
  {
   "cell_type": "markdown",
   "id": "e41293ee-67e2-4704-84a8-07d3ec615859",
   "metadata": {},
   "source": [
    "31. Create a program that validates a password based on complexity rules (length, characters, etc.)."
   ]
  },
  {
   "cell_type": "code",
   "execution_count": 15,
   "id": "cf524854-f151-46e4-9513-7dbee5539081",
   "metadata": {},
   "outputs": [
    {
     "name": "stdin",
     "output_type": "stream",
     "text": [
      "Enter your password:  september@020227111\n"
     ]
    },
    {
     "name": "stdout",
     "output_type": "stream",
     "text": [
      "\n",
      "Password validation failed. Please correct the following issues:\n",
      "Password should contain at least one uppercase letter.\n"
     ]
    }
   ],
   "source": [
    "# Define password complexity rules\n",
    "min_length = 8\n",
    "requires_lowercase = True\n",
    "requires_uppercase = True\n",
    "requires_digit = True\n",
    "requires_special_char = True\n",
    "\n",
    "# Get user input for the password\n",
    "password = input(\"Enter your password: \")\n",
    "\n",
    "# Initialize error messages list\n",
    "errors = []\n",
    "\n",
    "# Check password length\n",
    "if len(password) < min_length:\n",
    "    errors.append(f\"Password should be at least {min_length} characters long.\")\n",
    "\n",
    "# Check lowercase requirement\n",
    "if requires_lowercase and not any(char.islower() for char in password):\n",
    "    errors.append(\"Password should contain at least one lowercase letter.\")\n",
    "\n",
    "# Check uppercase requirement\n",
    "if requires_uppercase and not any(char.isupper() for char in password):\n",
    "    errors.append(\"Password should contain at least one uppercase letter.\")\n",
    "\n",
    "# Check digit requirement\n",
    "if requires_digit and not any(char.isdigit() for char in password):\n",
    "    errors.append(\"Password should contain at least one digit.\")\n",
    "\n",
    "# Check special character requirement\n",
    "if requires_special_char and not any(char in \"!@#$%^&*()_+[]{}|;:'\\\"<>,.?/~`\" for char in password):\n",
    "    errors.append(\"Password should contain at least one special character.\")\n",
    "\n",
    "# Check if there are any errors\n",
    "if errors:\n",
    "    print(\"\\nPassword validation failed. Please correct the following issues:\")\n",
    "    for error in errors:\n",
    "        print(error)\n",
    "else:\n",
    "    print(\"\\nPassword is valid and meets the complexity requirements.\")        \n"
   ]
  },
  {
   "cell_type": "markdown",
   "id": "2227402e-ce7f-4783-a516-f4a35db5d4d8",
   "metadata": {},
   "source": [
    "32. Develop a program that performs matrix addition and subtraction based on user input."
   ]
  },
  {
   "cell_type": "code",
   "execution_count": 17,
   "id": "a4a43eb4-c07e-4001-a007-8226084c5b5a",
   "metadata": {},
   "outputs": [
    {
     "name": "stdin",
     "output_type": "stream",
     "text": [
      "Enter the number of rows for matrices:  2\n",
      "Enter the number of columns for matrices:  2\n"
     ]
    },
    {
     "name": "stdout",
     "output_type": "stream",
     "text": [
      "Matrix A:\n"
     ]
    },
    {
     "name": "stdin",
     "output_type": "stream",
     "text": [
      "Enter element at position (1,1):  2\n",
      "Enter element at position (1,2):  5\n",
      "Enter element at position (2,1):  6\n",
      "Enter element at position (2,2):  2\n"
     ]
    },
    {
     "name": "stdout",
     "output_type": "stream",
     "text": [
      "Matrix B:\n"
     ]
    },
    {
     "name": "stdin",
     "output_type": "stream",
     "text": [
      "Enter element at position (1,1):  4\n",
      "Enter element at position (1,2):  8\n",
      "Enter element at position (2,1):  3\n",
      "Enter element at position (2,2):  6\n",
      "Choose operation (addition or subtraction):  9\n"
     ]
    },
    {
     "name": "stdout",
     "output_type": "stream",
     "text": [
      "Invalid operation!\n",
      "Matrix dimensions are not compatible for the chosen operation.\n"
     ]
    }
   ],
   "source": [
    "# Input matrix dimensions\n",
    "rows = int(input(\"Enter the number of rows for matrices: \"))\n",
    "cols = int(input(\"Enter the number of columns for matrices: \"))\n",
    "\n",
    "# Input two matrices\n",
    "print(\"Matrix A:\")\n",
    "matrix_a = []\n",
    "for i in range(rows):\n",
    "    row = []\n",
    "    for j in range(cols):\n",
    "        element = float(input(f\"Enter element at position ({i+1},{j+1}): \"))\n",
    "        row.append(element)\n",
    "    matrix_a.append(row)\n",
    "\n",
    "print(\"Matrix B:\")\n",
    "matrix_b = []\n",
    "for i in range(rows):\n",
    "    row = []\n",
    "    for j in range(cols):\n",
    "        element = float(input(f\"Enter element at position ({i+1},{j+1}): \"))\n",
    "        row.append(element)\n",
    "    matrix_b.append(row)\n",
    "\n",
    "# Choose operation\n",
    "operation = input(\"Choose operation (addition or subtraction): \").lower()\n",
    "\n",
    "# Perform the chosen operation\n",
    "result_matrix = []\n",
    "if operation == \"addition\":\n",
    "    for i in range(rows):\n",
    "        row = []\n",
    "        for j in range(cols):\n",
    "            row.append(matrix_a[i][j] + matrix_b[i][j])\n",
    "        result_matrix.append(row)\n",
    "elif operation == \"subtraction\":\n",
    "    for i in range(rows):\n",
    "        row = []\n",
    "        for j in range(cols):\n",
    "            row.append(matrix_a[i][j] - matrix_b[i][j])\n",
    "        result_matrix.append(row)\n",
    "else:\n",
    "    result_matrix = None\n",
    "    print(\"Invalid operation!\")\n",
    "\n",
    "# Display the result\n",
    "if result_matrix:\n",
    "    print(\"Result:\")\n",
    "    for row in result_matrix:\n",
    "        print(\" \".join(map(str, row)))\n",
    "else:\n",
    "    print(\"Matrix dimensions are not compatible for the chosen operation.\")\n"
   ]
  },
  {
   "cell_type": "markdown",
   "id": "e14ab8d9-1ef3-4212-8cd1-62a5162de347",
   "metadata": {},
   "source": [
    "33. Write a program that calculates the greatest common divisor (GCD) of two numbers using the Euclidean\n",
    "algorithm."
   ]
  },
  {
   "cell_type": "code",
   "execution_count": 18,
   "id": "779b8a38-c486-43df-90a4-df775c1c68e8",
   "metadata": {},
   "outputs": [
    {
     "name": "stdin",
     "output_type": "stream",
     "text": [
      "Enter the first number:  4\n",
      "Enter the second number:  6\n"
     ]
    },
    {
     "name": "stdout",
     "output_type": "stream",
     "text": [
      "The GCD of 4 and 6 is 2\n"
     ]
    }
   ],
   "source": [
    "# Function to calculate the GCD using the Euclidean algorithm\n",
    "def gcd_euclidean(a, b):\n",
    "    while b:\n",
    "        a, b = b, a % b\n",
    "    return a\n",
    "\n",
    "# Input two numbers from the user\n",
    "num1 = int(input(\"Enter the first number: \"))\n",
    "num2 = int(input(\"Enter the second number: \"))\n",
    "\n",
    "# Calculate the GCD using the Euclidean algorithm\n",
    "gcd = gcd_euclidean(num1, num2)\n",
    "\n",
    "# Display the result\n",
    "print(f\"The GCD of {num1} and {num2} is {gcd}\")"
   ]
  },
  {
   "cell_type": "markdown",
   "id": "2e2b8c5c-5734-40c0-ae5e-6d38c8ecabdd",
   "metadata": {},
   "source": [
    "34. Build a program that performs matrix multiplication using nested loops and conditional statements."
   ]
  },
  {
   "cell_type": "code",
   "execution_count": 27,
   "id": "14aa20a6-8c57-4762-80c1-391181294edf",
   "metadata": {},
   "outputs": [
    {
     "name": "stdout",
     "output_type": "stream",
     "text": [
      "Resultant Matrix:\n",
      "[58, 64]\n",
      "[139, 154]\n"
     ]
    }
   ],
   "source": [
    "# Function to multiply two matrices\n",
    "def matrix_multiply(matrix1, matrix2):\n",
    "    # Get the dimensions of the input matrices\n",
    "    rows1, cols1 = len(matrix1), len(matrix1[0])\n",
    "    rows2, cols2 = len(matrix2), len(matrix2[0])\n",
    "\n",
    "    # Check if the matrices can be multiplied\n",
    "    if cols1 != rows2:\n",
    "        print(\"Matrix multiplication is not possible. Number of columns in matrix 1 must be equal to the number of rows in matrix 2.\")\n",
    "        return None\n",
    "\n",
    "    # Initialize the result matrix with zeros\n",
    "    result = [[0 for _ in range(cols2)] for _ in range(rows1)]\n",
    "\n",
    "    # Perform matrix multiplication using nested loops\n",
    "    for i in range(rows1):\n",
    "        for j in range(cols2):\n",
    "            for k in range(cols1):\n",
    "                result[i][j] += matrix1[i][k] * matrix2[k][j]\n",
    "\n",
    "    return result\n",
    "\n",
    "# Example matrices for testing\n",
    "matrix_A = [\n",
    "    [1, 2, 3],\n",
    "    [4, 5, 6]\n",
    "]\n",
    "\n",
    "matrix_B = [\n",
    "    [7, 8],\n",
    "    [9, 10],\n",
    "    [11, 12]\n",
    "]\n",
    "\n",
    "# Perform matrix multiplication\n",
    "result_matrix = matrix_multiply(matrix_A, matrix_B)\n",
    "\n",
    "# Display the result matrix\n",
    "if result_matrix:\n",
    "    print(\"Resultant Matrix:\")\n",
    "    for row in result_matrix:\n",
    "        print(row)"
   ]
  },
  {
   "cell_type": "markdown",
   "id": "d4c65e13-cf90-4524-8443-af1408382a62",
   "metadata": {},
   "source": [
    "35. Create a program that simulates a basic text-based tic-tac-toe game against the computer."
   ]
  },
  {
   "cell_type": "code",
   "execution_count": 20,
   "id": "4d1dfe07-3e19-4017-91d4-e484b852d2b0",
   "metadata": {},
   "outputs": [
    {
     "name": "stdout",
     "output_type": "stream",
     "text": [
      "Welcome to Tic Tac Toe!\n",
      "  |   |  \n",
      "---------\n",
      "  |   |  \n",
      "---------\n",
      "  |   |  \n",
      "---------\n",
      "Player X's turn\n"
     ]
    },
    {
     "name": "stdin",
     "output_type": "stream",
     "text": [
      "Enter row (0, 1, or 2):  0\n",
      "Enter column (0, 1, or 2):  2\n"
     ]
    },
    {
     "name": "stdout",
     "output_type": "stream",
     "text": [
      "  |   | X\n",
      "---------\n",
      "  |   |  \n",
      "---------\n",
      "  |   |  \n",
      "---------\n",
      "Player O's turn\n"
     ]
    },
    {
     "name": "stdin",
     "output_type": "stream",
     "text": [
      "Enter row (0, 1, or 2):  1\n",
      "Enter column (0, 1, or 2):  2\n"
     ]
    },
    {
     "name": "stdout",
     "output_type": "stream",
     "text": [
      "  |   | X\n",
      "---------\n",
      "  |   | O\n",
      "---------\n",
      "  |   |  \n",
      "---------\n",
      "Player X's turn\n"
     ]
    },
    {
     "name": "stdin",
     "output_type": "stream",
     "text": [
      "Enter row (0, 1, or 2):  0\n",
      "Enter column (0, 1, or 2):  1\n"
     ]
    },
    {
     "name": "stdout",
     "output_type": "stream",
     "text": [
      "  | X | X\n",
      "---------\n",
      "  |   | O\n",
      "---------\n",
      "  |   |  \n",
      "---------\n",
      "Player O's turn\n"
     ]
    },
    {
     "name": "stdin",
     "output_type": "stream",
     "text": [
      "Enter row (0, 1, or 2):  0\n",
      "Enter column (0, 1, or 2):  2\n"
     ]
    },
    {
     "name": "stdout",
     "output_type": "stream",
     "text": [
      "That position is already taken. Try again.\n",
      "  | X | X\n",
      "---------\n",
      "  |   | O\n",
      "---------\n",
      "  |   |  \n",
      "---------\n",
      "Player O's turn\n"
     ]
    },
    {
     "name": "stdin",
     "output_type": "stream",
     "text": [
      "Enter row (0, 1, or 2):  2\n",
      "Enter column (0, 1, or 2):  1\n"
     ]
    },
    {
     "name": "stdout",
     "output_type": "stream",
     "text": [
      "  | X | X\n",
      "---------\n",
      "  |   | O\n",
      "---------\n",
      "  | O |  \n",
      "---------\n",
      "Player X's turn\n"
     ]
    },
    {
     "name": "stdin",
     "output_type": "stream",
     "text": [
      "Enter row (0, 1, or 2):  0\n",
      "Enter column (0, 1, or 2):  1\n"
     ]
    },
    {
     "name": "stdout",
     "output_type": "stream",
     "text": [
      "That position is already taken. Try again.\n",
      "  | X | X\n",
      "---------\n",
      "  |   | O\n",
      "---------\n",
      "  | O |  \n",
      "---------\n",
      "Player X's turn\n"
     ]
    },
    {
     "name": "stdin",
     "output_type": "stream",
     "text": [
      "Enter row (0, 1, or 2):  2\n",
      "Enter column (0, 1, or 2):  0\n"
     ]
    },
    {
     "name": "stdout",
     "output_type": "stream",
     "text": [
      "  | X | X\n",
      "---------\n",
      "  |   | O\n",
      "---------\n",
      "X | O |  \n",
      "---------\n",
      "Player O's turn\n"
     ]
    },
    {
     "name": "stdin",
     "output_type": "stream",
     "text": [
      "Enter row (0, 1, or 2):  0\n",
      "Enter column (0, 1, or 2):  0\n"
     ]
    },
    {
     "name": "stdout",
     "output_type": "stream",
     "text": [
      "O | X | X\n",
      "---------\n",
      "  |   | O\n",
      "---------\n",
      "X | O |  \n",
      "---------\n",
      "Player X's turn\n"
     ]
    },
    {
     "name": "stdin",
     "output_type": "stream",
     "text": [
      "Enter row (0, 1, or 2):  1\n",
      "Enter column (0, 1, or 2):  1\n"
     ]
    },
    {
     "name": "stdout",
     "output_type": "stream",
     "text": [
      "O | X | X\n",
      "---------\n",
      "  | X | O\n",
      "---------\n",
      "X | O |  \n",
      "---------\n",
      "Player X wins!\n"
     ]
    }
   ],
   "source": [
    "def print_board(board):\n",
    "    for row in board:\n",
    "        print(\" | \".join(row))\n",
    "        print(\"-\" * 9)\n",
    "\n",
    "def check_winner(board, player):\n",
    "    for row in board:\n",
    "        if all(cell == player for cell in row):\n",
    "            return True\n",
    "\n",
    "    for col in range(3):\n",
    "        if all(board[row][col] == player for row in range(3)):\n",
    "            return True\n",
    "\n",
    "    if all(board[i][i] == player for i in range(3)) or all(board[i][2 - i] == player for i in range(3)):\n",
    "        return True\n",
    "\n",
    "    return False\n",
    "\n",
    "def is_board_full(board):\n",
    "    for row in board:\n",
    "        if \" \" in row:\n",
    "            return False\n",
    "    return True\n",
    "\n",
    "def main():\n",
    "    board = [[\" \" for _ in range(3)] for _ in range(3)]\n",
    "    current_player = \"X\"\n",
    "    game_over = False\n",
    "\n",
    "    print(\"Welcome to Tic Tac Toe!\")\n",
    "    \n",
    "    while not game_over:\n",
    "        print_board(board)\n",
    "        print(f\"Player {current_player}'s turn\")\n",
    "\n",
    "        row = int(input(\"Enter row (0, 1, or 2): \"))\n",
    "        col = int(input(\"Enter column (0, 1, or 2): \"))\n",
    "\n",
    "        if board[row][col] == \" \":\n",
    "            board[row][col] = current_player\n",
    "\n",
    "            if check_winner(board, current_player):\n",
    "                print_board(board)\n",
    "                print(f\"Player {current_player} wins!\")\n",
    "                game_over = True\n",
    "            elif is_board_full(board):\n",
    "                print_board(board)\n",
    "                print(\"It's a tie!\")\n",
    "                game_over = True\n",
    "            else:\n",
    "                current_player = \"O\" if current_player == \"X\" else \"X\"\n",
    "        else:\n",
    "            print(\"That position is already taken. Try again.\")\n",
    "\n",
    "if __name__ == \"__main__\":\n",
    "    main()\n",
    "    \n",
    "    "
   ]
  },
  {
   "cell_type": "markdown",
   "id": "8fa9897e-bc08-4183-847e-74f57d404fe4",
   "metadata": {},
   "source": [
    "36. Write a program that generates Fibonacci numbers up to a specified term using iterative methods."
   ]
  },
  {
   "cell_type": "code",
   "execution_count": 21,
   "id": "0eaabbc0-9b29-4183-b635-ce4761da8711",
   "metadata": {},
   "outputs": [
    {
     "name": "stdin",
     "output_type": "stream",
     "text": [
      "How many terms?  5\n"
     ]
    },
    {
     "name": "stdout",
     "output_type": "stream",
     "text": [
      "Fibonacci sequence:\n",
      "0\n",
      "1\n",
      "1\n",
      "2\n",
      "3\n"
     ]
    }
   ],
   "source": [
    "# Program to display the Fibonacci sequence up to n-th term\n",
    "\n",
    "nterms = int(input(\"How many terms? \"))\n",
    "\n",
    "# first two terms\n",
    "n1, n2 = 0, 1\n",
    "count = 0\n",
    "\n",
    "# check if the number of terms is valid\n",
    "if nterms <= 0:\n",
    "   print(\"Please enter a positive integer\")\n",
    "# if there is only one term, return n1\n",
    "elif nterms == 1:\n",
    "   print(\"Fibonacci sequence upto\",nterms,\":\")\n",
    "   print(n1)\n",
    "# generate fibonacci sequence\n",
    "else:\n",
    "   print(\"Fibonacci sequence:\")\n",
    "   while count < nterms:\n",
    "       print(n1)\n",
    "       nth = n1 + n2\n",
    "       # update values\n",
    "       n1 = n2\n",
    "       n2 = nth\n",
    "       count += 1"
   ]
  },
  {
   "cell_type": "markdown",
   "id": "5e03823b-66b7-4713-ac5f-a0b1f473d14c",
   "metadata": {},
   "source": [
    "37. Develop a program that calculates the nth term of the Fibonacci sequence using memoization."
   ]
  },
  {
   "cell_type": "code",
   "execution_count": 22,
   "id": "31db38ed-ba19-4953-bc56-b627b9373ac5",
   "metadata": {},
   "outputs": [
    {
     "name": "stdout",
     "output_type": "stream",
     "text": [
      "13\n"
     ]
    }
   ],
   "source": [
    "# Fibonacci Series using Dynamic Programming\n",
    "def fibonacci(n):\n",
    "\n",
    "# Taking 1st two fibonacci numbers as 0 and 1\n",
    "    f = [0, 1]\n",
    "\n",
    "    for i in range(2, n+1):\n",
    "        f.append(f[i-1] + f[i-2])\n",
    "    return f[n]\n",
    "\n",
    "\n",
    "print(fibonacci(7))"
   ]
  },
  {
   "cell_type": "markdown",
   "id": "680fffdb-f140-4411-87fe-a854efe48300",
   "metadata": {},
   "source": [
    "38. Create a program that generates a calendar for a given month and year using conditional statements."
   ]
  },
  {
   "cell_type": "code",
   "execution_count": 23,
   "id": "be83f271-5cf7-42ba-bb65-38c823bd6b50",
   "metadata": {},
   "outputs": [
    {
     "name": "stdout",
     "output_type": "stream",
     "text": [
      "   November 2014\n",
      "Mo Tu We Th Fr Sa Su\n",
      "                1  2\n",
      " 3  4  5  6  7  8  9\n",
      "10 11 12 13 14 15 16\n",
      "17 18 19 20 21 22 23\n",
      "24 25 26 27 28 29 30\n",
      "\n"
     ]
    }
   ],
   "source": [
    "# Program to display calendar of the given month and year\n",
    "\n",
    "# importing calendar module\n",
    "import calendar\n",
    "\n",
    "yy = 2014  # year\n",
    "mm = 11    # month\n",
    "\n",
    "# To take month and year input from the user\n",
    "# yy = int(input(\"Enter year: \"))\n",
    "# mm = int(input(\"Enter month: \"))\n",
    "\n",
    "# display the calendar\n",
    "print(calendar.month(yy, mm))"
   ]
  },
  {
   "cell_type": "markdown",
   "id": "0b7cd34b-fa00-46a0-ad4f-65112e3c33b6",
   "metadata": {},
   "source": [
    "39. Build a program that simulates a basic text-based blackjack game against the computer."
   ]
  },
  {
   "cell_type": "code",
   "execution_count": 26,
   "id": "8b0e430f-5cbc-424d-8ab3-a3d17a8bbd30",
   "metadata": {},
   "outputs": [
    {
     "name": "stdout",
     "output_type": "stream",
     "text": [
      "Your hand: ['K', 'A'] ( 21 )\n",
      "Dealer's hand: ['10', '?']\n",
      "Your hand: ['K', 'A'] ( 21 )\n",
      "Dealer's hand: ['10', '4', '7'] ( 21 )\n",
      "It's a tie!\n"
     ]
    },
    {
     "name": "stdin",
     "output_type": "stream",
     "text": [
      "Do you want to play again? (yes/no):  yes\n"
     ]
    },
    {
     "name": "stdout",
     "output_type": "stream",
     "text": [
      "Your hand: ['8', '6'] ( 14 )\n",
      "Dealer's hand: ['3', '?']\n"
     ]
    },
    {
     "name": "stdin",
     "output_type": "stream",
     "text": [
      "Do you want to 'hit' or 'stand'?  hot\n",
      "Do you want to 'hit' or 'stand'?  stand\n"
     ]
    },
    {
     "name": "stdout",
     "output_type": "stream",
     "text": [
      "Your hand: ['8', '6'] ( 14 )\n",
      "Dealer's hand: ['3', '10', '5'] ( 18 )\n",
      "Dealer wins.\n"
     ]
    },
    {
     "name": "stdin",
     "output_type": "stream",
     "text": [
      "Do you want to play again? (yes/no):  no\n"
     ]
    },
    {
     "name": "stdout",
     "output_type": "stream",
     "text": [
      "Thanks for playing!\n"
     ]
    }
   ],
   "source": [
    "import random\n",
    "\n",
    "# Function to calculate the total value of a hand\n",
    "def calculate_hand_value(hand):\n",
    "    value = 0\n",
    "    num_aces = 0\n",
    "\n",
    "    for card in hand:\n",
    "        if card in ['K', 'Q', 'J']:\n",
    "            value += 10\n",
    "        elif card == 'A':\n",
    "            value += 11\n",
    "            num_aces += 1\n",
    "        else:\n",
    "            value += int(card)\n",
    "\n",
    "    while num_aces > 0 and value > 21:\n",
    "        value -= 10\n",
    "        num_aces -= 1\n",
    "\n",
    "    return value\n",
    "\n",
    "# Function to display the player's and dealer's hands\n",
    "def display_hands(player_hand, dealer_hand, reveal_dealer=False):\n",
    "    print(\"Your hand:\", player_hand, \"(\", calculate_hand_value(player_hand), \")\")\n",
    "    if reveal_dealer:\n",
    "        print(\"Dealer's hand:\", dealer_hand, \"(\", calculate_hand_value(dealer_hand), \")\")\n",
    "    else:\n",
    "        print(\"Dealer's hand:\", [dealer_hand[0], \"?\"])\n",
    "\n",
    "# Function to deal a card from the deck\n",
    "def deal_card(deck, hand):\n",
    "    card = random.choice(deck)\n",
    "    hand.append(card)\n",
    "    deck.remove(card)\n",
    "    \n",
    "# Initialize the deck\n",
    "suits = ['Hearts', 'Diamonds', 'Clubs', 'Spades']\n",
    "values = ['2', '3', '4', '5', '6', '7', '8', '9', '10', 'J', 'Q', 'K', 'A']\n",
    "deck = [value for suit in suits for value in values]\n",
    "\n",
    "# Main game loop\n",
    "while True:\n",
    "    player_hand = []\n",
    "    dealer_hand = []\n",
    "\n",
    "    # Shuffle the deck\n",
    "    random.shuffle(deck)\n",
    "\n",
    "    # Deal the initial cards\n",
    "    for _ in range(2):\n",
    "        deal_card(deck, player_hand)\n",
    "        deal_card(deck, dealer_hand)\n",
    "\n",
    "    # Display the initial hands\n",
    "    display_hands(player_hand, dealer_hand)\n",
    "\n",
    "    # Player's turn\n",
    "    while calculate_hand_value(player_hand) < 21:\n",
    "        action = input(\"Do you want to 'hit' or 'stand'? \").lower()\n",
    "        if action == 'hit':\n",
    "            deal_card(deck, player_hand)\n",
    "            display_hands(player_hand, dealer_hand)\n",
    "        elif action == 'stand':\n",
    "            break\n",
    "            \n",
    "       # Dealer's turn\n",
    "    while calculate_hand_value(dealer_hand) < 17:\n",
    "        deal_card(deck, dealer_hand)\n",
    "\n",
    "    # Display final hands\n",
    "    display_hands(player_hand, dealer_hand, reveal_dealer=True)\n",
    "\n",
    "    # Determine the winner\n",
    "    player_value = calculate_hand_value(player_hand)\n",
    "    dealer_value = calculate_hand_value(dealer_hand)\n",
    "\n",
    "    if player_value > 21:\n",
    "        print(\"Bust! You lose.\")\n",
    "    elif dealer_value > 21:\n",
    "        print(\"Dealer busts! You win.\")\n",
    "    elif player_value > dealer_value:\n",
    "        print(\"You win!\")\n",
    "    elif player_value < dealer_value:\n",
    "        print(\"Dealer wins.\")\n",
    "    else:\n",
    "        print(\"It's a tie!\")\n",
    "\n",
    "    play_again = input(\"Do you want to play again? (yes/no): \").lower()\n",
    "    if play_again != 'yes':\n",
    "        break\n",
    "\n",
    "print(\"Thanks for playing!\")\n"
   ]
  },
  {
   "cell_type": "markdown",
   "id": "c5993165-27ee-4b12-b71c-7590f6874b37",
   "metadata": {},
   "source": [
    "40. Write a program that generates the prime factors of a given number using trial division."
   ]
  },
  {
   "cell_type": "code",
   "execution_count": 25,
   "id": "84005e0d-2251-46b1-a30d-1eb3552f6383",
   "metadata": {},
   "outputs": [
    {
     "name": "stdout",
     "output_type": "stream",
     "text": [
      "Prime factors of 90 are {2, 3, 5}\n",
      "Prime factors of 180 are {2, 3, 5}\n"
     ]
    }
   ],
   "source": [
    "def calculate_prime_factors(N):\n",
    "    prime_factors = set()\n",
    "    if N % 2 == 0:\n",
    "        prime_factors.add(2)\n",
    "    while N % 2 == 0:\n",
    "        N = N // 2\n",
    "        if N == 1:\n",
    "            return prime_factors\n",
    "    for factor in range(3, N + 1, 2):\n",
    "        if N % factor == 0:\n",
    "            prime_factors.add(factor)\n",
    "            while N % factor == 0:\n",
    "                N = N // factor\n",
    "                if N == 1:\n",
    "                    return prime_factors\n",
    "\n",
    "\n",
    "input_number = 90\n",
    "output = calculate_prime_factors(input_number)\n",
    "print(\"Prime factors of {} are {}\".format(input_number, output))\n",
    "input_number = 180\n",
    "output = calculate_prime_factors(input_number)\n",
    "print(\"Prime factors of {} are {}\".format(input_number, output))"
   ]
  },
  {
   "cell_type": "code",
   "execution_count": null,
   "id": "08065067-a6f5-4f72-83b3-ab3a16a447a0",
   "metadata": {},
   "outputs": [],
   "source": []
  },
  {
   "cell_type": "code",
   "execution_count": null,
   "id": "dc6e389d-9e96-4266-b069-a7da82e686d1",
   "metadata": {},
   "outputs": [],
   "source": []
  }
 ],
 "metadata": {
  "kernelspec": {
   "display_name": "Python 3 (ipykernel)",
   "language": "python",
   "name": "python3"
  },
  "language_info": {
   "codemirror_mode": {
    "name": "ipython",
    "version": 3
   },
   "file_extension": ".py",
   "mimetype": "text/x-python",
   "name": "python",
   "nbconvert_exporter": "python",
   "pygments_lexer": "ipython3",
   "version": "3.10.8"
  }
 },
 "nbformat": 4,
 "nbformat_minor": 5
}
